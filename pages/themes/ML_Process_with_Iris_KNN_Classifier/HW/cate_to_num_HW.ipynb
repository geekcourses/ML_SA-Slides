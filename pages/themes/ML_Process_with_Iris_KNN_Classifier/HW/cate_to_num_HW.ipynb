version https://git-lfs.github.com/spec/v1
oid sha256:5241c185b9f314ad1796e3ee9a402f82676b9491b3739a295710660bddfd15e8
size 3832
