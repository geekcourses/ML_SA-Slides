{
 "cells": [
  {
   "cell_type": "code",
   "execution_count": 1,
   "metadata": {},
   "outputs": [],
   "source": [
    "import os\n",
    "os.environ['CUDA_VISIBLE_DEVICES'] = '-1'  # Disable GPU usage\n",
    "os.environ['TF_CPP_MIN_LOG_LEVEL'] = '3'  #  Suppress all logs (INFO, WARNING, and ERROR)\n",
    "\n",
    "import tensorflow as tf"
   ]
  },
  {
   "cell_type": "markdown",
   "metadata": {},
   "source": [
    "# Training Neural Networks with TenserFlow and Keras - Basic Concepts\n",
    "\n",
    "## Basic Structure of a Neural Network\n",
    "\n",
    "A neural network model is defined using layers that transform input data into desired outputs. \n",
    "Layers are the basic building blocks of neural networks. \n",
    "\n",
    "In TensorFlow layer consists of a tensor-in tensor-out computation function  and some state, held in TensorFlow variables (the layer's weights).\n",
    "\n",
    "Each layer performs a specific mathematical operation and passes the processed data to the next layer. \n",
    "\n",
    "- **Layers**: Building blocks of neural networks.\n",
    "- **Input Layer**: Receives input data.\n",
    "- **Hidden Layers**: Perform transformations on data.\n",
    "- **Output Layer**: Produces final predictions.\n",
    "\n",
    "\n",
    "### What is a Tensor in ML ?\n",
    "\n",
    "All major Deep Learning frameworks (e.g., TensorFlow, PyTorch, Keras, and MXNet) use tensors as their fundamental data structure for model inputs, outputs, weights, and computations.\n",
    "\n",
    "<a href=\"./images/Tensor_Units.jpg\"><img src='./images/Tensor_Units.jpg' style=height:12em></a><br>\n",
    "   *Image source: https://en.wikipedia.org/wiki/Tensor_(machine_learning)*\n",
    "\n",
    "A **tensor** in ML is a multi-dimensional array that is used to represent data. Tensors can have various shapes and data types, making them the basic building blocks of Deep Learning models. They are used to define inputs, outputs, weights, and activations within neural networks.\n",
    "\n",
    "Tensors are simmilar to numpay arrays, but can leverage parallel processing on GPUs through deep learning frameworks like TensorFlow and PyTorch, making them highly efficient for large-scale computations in neural networks.\n",
    "\n",
    "#### Key Points:\n",
    "1. **Multi-Dimensional Array**: A tensor can be a scalar (0D), vector (1D), matrix (2D), or higher-dimensional array (3D, 4D, etc.).\n",
    "2. **Shape**: Defined by the number of dimensions and the size of each dimension. For example:\n",
    "   - `Scalar`: Shape `()`\n",
    "   - `Vector`: Shape `(3,)`\n",
    "   - `Matrix`: Shape `(3, 4)`\n",
    "   - `4D Tensor`: Shape `(batch_size, height, width, channels)`\n",
    "3. **Data Types**: Tensors can have different data types, such as `float32`, `int32`, etc.\n",
    "4. **Manipulation**: Tensors support various operations like addition, multiplication, reshaping, and slicing.\n",
    "\n",
    "#### Tensor Example in Keras:"
   ]
  },
  {
   "cell_type": "code",
   "execution_count": 2,
   "metadata": {},
   "outputs": [
    {
     "name": "stdout",
     "output_type": "stream",
     "text": [
      "tf.Tensor(\n",
      "[[1. 2.]\n",
      " [3. 4.]], shape=(2, 2), dtype=float32)\n"
     ]
    }
   ],
   "source": [
    "# Creating a 2D tensor (Matrix)\n",
    "tensor_example = tf.constant([[1.0, 2.0], [3.0, 4.0]])\n",
    "print(tensor_example)"
   ]
  },
  {
   "cell_type": "markdown",
   "metadata": {},
   "source": [
    "## Define Model Architecture\n",
    "\n",
    "There are multiple ways to build a model in Keras depending on the complexity and structure of the neural network.\n",
    "\n",
    "### Sequential Model\n",
    "\n",
    "The **Sequential** model is a linear stack of layers, where each layer has exactly one input and one output. It is used for simple feed-forward architectures without branching or skipping connections.\n",
    "\n",
    "**Example: Simple Feed-Forward Network**\n"
   ]
  },
  {
   "cell_type": "code",
   "execution_count": 3,
   "metadata": {},
   "outputs": [
    {
     "data": {
      "text/html": [
       "<pre style=\"white-space:pre;overflow-x:auto;line-height:normal;font-family:Menlo,'DejaVu Sans Mono',consolas,'Courier New',monospace\"><span style=\"font-weight: bold\">Model: \"Sequential\"</span>\n",
       "</pre>\n"
      ],
      "text/plain": [
       "\u001b[1mModel: \"Sequential\"\u001b[0m\n"
      ]
     },
     "metadata": {},
     "output_type": "display_data"
    },
    {
     "data": {
      "text/html": [
       "<pre style=\"white-space:pre;overflow-x:auto;line-height:normal;font-family:Menlo,'DejaVu Sans Mono',consolas,'Courier New',monospace\">┏━━━━━━━━━━━━━━━━━━━━━━━━━━━━━━━━━┳━━━━━━━━━━━━━━━━━━━━━━━━┳━━━━━━━━━━━━━━━┓\n",
       "┃<span style=\"font-weight: bold\"> Layer (type)                    </span>┃<span style=\"font-weight: bold\"> Output Shape           </span>┃<span style=\"font-weight: bold\">       Param # </span>┃\n",
       "┡━━━━━━━━━━━━━━━━━━━━━━━━━━━━━━━━━╇━━━━━━━━━━━━━━━━━━━━━━━━╇━━━━━━━━━━━━━━━┩\n",
       "│ Hidden_1 (<span style=\"color: #0087ff; text-decoration-color: #0087ff\">Dense</span>)                │ (<span style=\"color: #00d7ff; text-decoration-color: #00d7ff\">None</span>, <span style=\"color: #00af00; text-decoration-color: #00af00\">32</span>)             │            <span style=\"color: #00af00; text-decoration-color: #00af00\">96</span> │\n",
       "├─────────────────────────────────┼────────────────────────┼───────────────┤\n",
       "│ Hidden_2 (<span style=\"color: #0087ff; text-decoration-color: #0087ff\">Dense</span>)                │ (<span style=\"color: #00d7ff; text-decoration-color: #00d7ff\">None</span>, <span style=\"color: #00af00; text-decoration-color: #00af00\">16</span>)             │           <span style=\"color: #00af00; text-decoration-color: #00af00\">528</span> │\n",
       "├─────────────────────────────────┼────────────────────────┼───────────────┤\n",
       "│ Output (<span style=\"color: #0087ff; text-decoration-color: #0087ff\">Dense</span>)                  │ (<span style=\"color: #00d7ff; text-decoration-color: #00d7ff\">None</span>, <span style=\"color: #00af00; text-decoration-color: #00af00\">1</span>)              │            <span style=\"color: #00af00; text-decoration-color: #00af00\">17</span> │\n",
       "└─────────────────────────────────┴────────────────────────┴───────────────┘\n",
       "</pre>\n"
      ],
      "text/plain": [
       "┏━━━━━━━━━━━━━━━━━━━━━━━━━━━━━━━━━┳━━━━━━━━━━━━━━━━━━━━━━━━┳━━━━━━━━━━━━━━━┓\n",
       "┃\u001b[1m \u001b[0m\u001b[1mLayer (type)                   \u001b[0m\u001b[1m \u001b[0m┃\u001b[1m \u001b[0m\u001b[1mOutput Shape          \u001b[0m\u001b[1m \u001b[0m┃\u001b[1m \u001b[0m\u001b[1m      Param #\u001b[0m\u001b[1m \u001b[0m┃\n",
       "┡━━━━━━━━━━━━━━━━━━━━━━━━━━━━━━━━━╇━━━━━━━━━━━━━━━━━━━━━━━━╇━━━━━━━━━━━━━━━┩\n",
       "│ Hidden_1 (\u001b[38;5;33mDense\u001b[0m)                │ (\u001b[38;5;45mNone\u001b[0m, \u001b[38;5;34m32\u001b[0m)             │            \u001b[38;5;34m96\u001b[0m │\n",
       "├─────────────────────────────────┼────────────────────────┼───────────────┤\n",
       "│ Hidden_2 (\u001b[38;5;33mDense\u001b[0m)                │ (\u001b[38;5;45mNone\u001b[0m, \u001b[38;5;34m16\u001b[0m)             │           \u001b[38;5;34m528\u001b[0m │\n",
       "├─────────────────────────────────┼────────────────────────┼───────────────┤\n",
       "│ Output (\u001b[38;5;33mDense\u001b[0m)                  │ (\u001b[38;5;45mNone\u001b[0m, \u001b[38;5;34m1\u001b[0m)              │            \u001b[38;5;34m17\u001b[0m │\n",
       "└─────────────────────────────────┴────────────────────────┴───────────────┘\n"
      ]
     },
     "metadata": {},
     "output_type": "display_data"
    },
    {
     "data": {
      "text/html": [
       "<pre style=\"white-space:pre;overflow-x:auto;line-height:normal;font-family:Menlo,'DejaVu Sans Mono',consolas,'Courier New',monospace\"><span style=\"font-weight: bold\"> Total params: </span><span style=\"color: #00af00; text-decoration-color: #00af00\">641</span> (2.50 KB)\n",
       "</pre>\n"
      ],
      "text/plain": [
       "\u001b[1m Total params: \u001b[0m\u001b[38;5;34m641\u001b[0m (2.50 KB)\n"
      ]
     },
     "metadata": {},
     "output_type": "display_data"
    },
    {
     "data": {
      "text/html": [
       "<pre style=\"white-space:pre;overflow-x:auto;line-height:normal;font-family:Menlo,'DejaVu Sans Mono',consolas,'Courier New',monospace\"><span style=\"font-weight: bold\"> Trainable params: </span><span style=\"color: #00af00; text-decoration-color: #00af00\">641</span> (2.50 KB)\n",
       "</pre>\n"
      ],
      "text/plain": [
       "\u001b[1m Trainable params: \u001b[0m\u001b[38;5;34m641\u001b[0m (2.50 KB)\n"
      ]
     },
     "metadata": {},
     "output_type": "display_data"
    },
    {
     "data": {
      "text/html": [
       "<pre style=\"white-space:pre;overflow-x:auto;line-height:normal;font-family:Menlo,'DejaVu Sans Mono',consolas,'Courier New',monospace\"><span style=\"font-weight: bold\"> Non-trainable params: </span><span style=\"color: #00af00; text-decoration-color: #00af00\">0</span> (0.00 B)\n",
       "</pre>\n"
      ],
      "text/plain": [
       "\u001b[1m Non-trainable params: \u001b[0m\u001b[38;5;34m0\u001b[0m (0.00 B)\n"
      ]
     },
     "metadata": {},
     "output_type": "display_data"
    }
   ],
   "source": [
    "from tensorflow.keras.models import Sequential\n",
    "from tensorflow.keras.layers import Dense,Input\n",
    "\n",
    "model_1 = Sequential([\n",
    "    Input(shape=(2,), name='Input'),\n",
    "    Dense(32, activation='relu', name='Hidden_1'),\n",
    "    Dense(16, activation='relu',name='Hidden_2'),\n",
    "    Dense(1, activation='sigmoid',name='Output')\n",
    "], name='Sequential')\n",
    "\n",
    "\n",
    "model_1.summary()"
   ]
  },
  {
   "cell_type": "markdown",
   "metadata": {},
   "source": [
    "### Functional API\n",
    "\n",
    "The **Functional API** in Keras is more flexible than the Sequential model, allowing for complex architectures such as multi-input, multi-output models, or models with shared layers. Instead of stacking layers linearly, the Functional API enables defining models by connecting layers like a graph, which provides greater control over the network structure.\n",
    "\n",
    "- **Define Input Layer**: Start by defining the input layer using `Input()`.\n",
    "- **Connect Layers**: Use layer instances (e.g., `Dense`) and connect them using function calls.\n",
    "- **Create the Model**: Pass the input and output layers to the `Model()` class.\n",
    "\n",
    "**Example:**"
   ]
  },
  {
   "cell_type": "code",
   "execution_count": 4,
   "metadata": {},
   "outputs": [
    {
     "data": {
      "text/html": [
       "<pre style=\"white-space:pre;overflow-x:auto;line-height:normal;font-family:Menlo,'DejaVu Sans Mono',consolas,'Courier New',monospace\"><span style=\"font-weight: bold\">Model: \"Functional\"</span>\n",
       "</pre>\n"
      ],
      "text/plain": [
       "\u001b[1mModel: \"Functional\"\u001b[0m\n"
      ]
     },
     "metadata": {},
     "output_type": "display_data"
    },
    {
     "data": {
      "text/html": [
       "<pre style=\"white-space:pre;overflow-x:auto;line-height:normal;font-family:Menlo,'DejaVu Sans Mono',consolas,'Courier New',monospace\">┏━━━━━━━━━━━━━━━━━━━━━━━━━━━━━━━━━┳━━━━━━━━━━━━━━━━━━━━━━━━┳━━━━━━━━━━━━━━━┓\n",
       "┃<span style=\"font-weight: bold\"> Layer (type)                    </span>┃<span style=\"font-weight: bold\"> Output Shape           </span>┃<span style=\"font-weight: bold\">       Param # </span>┃\n",
       "┡━━━━━━━━━━━━━━━━━━━━━━━━━━━━━━━━━╇━━━━━━━━━━━━━━━━━━━━━━━━╇━━━━━━━━━━━━━━━┩\n",
       "│ input_layer (<span style=\"color: #0087ff; text-decoration-color: #0087ff\">InputLayer</span>)        │ (<span style=\"color: #00d7ff; text-decoration-color: #00d7ff\">None</span>, <span style=\"color: #00af00; text-decoration-color: #00af00\">2</span>)              │             <span style=\"color: #00af00; text-decoration-color: #00af00\">0</span> │\n",
       "├─────────────────────────────────┼────────────────────────┼───────────────┤\n",
       "│ Hidden_1 (<span style=\"color: #0087ff; text-decoration-color: #0087ff\">Dense</span>)                │ (<span style=\"color: #00d7ff; text-decoration-color: #00d7ff\">None</span>, <span style=\"color: #00af00; text-decoration-color: #00af00\">32</span>)             │            <span style=\"color: #00af00; text-decoration-color: #00af00\">96</span> │\n",
       "├─────────────────────────────────┼────────────────────────┼───────────────┤\n",
       "│ Hidden_2 (<span style=\"color: #0087ff; text-decoration-color: #0087ff\">Dense</span>)                │ (<span style=\"color: #00d7ff; text-decoration-color: #00d7ff\">None</span>, <span style=\"color: #00af00; text-decoration-color: #00af00\">16</span>)             │           <span style=\"color: #00af00; text-decoration-color: #00af00\">528</span> │\n",
       "├─────────────────────────────────┼────────────────────────┼───────────────┤\n",
       "│ Output (<span style=\"color: #0087ff; text-decoration-color: #0087ff\">Dense</span>)                  │ (<span style=\"color: #00d7ff; text-decoration-color: #00d7ff\">None</span>, <span style=\"color: #00af00; text-decoration-color: #00af00\">1</span>)              │            <span style=\"color: #00af00; text-decoration-color: #00af00\">17</span> │\n",
       "└─────────────────────────────────┴────────────────────────┴───────────────┘\n",
       "</pre>\n"
      ],
      "text/plain": [
       "┏━━━━━━━━━━━━━━━━━━━━━━━━━━━━━━━━━┳━━━━━━━━━━━━━━━━━━━━━━━━┳━━━━━━━━━━━━━━━┓\n",
       "┃\u001b[1m \u001b[0m\u001b[1mLayer (type)                   \u001b[0m\u001b[1m \u001b[0m┃\u001b[1m \u001b[0m\u001b[1mOutput Shape          \u001b[0m\u001b[1m \u001b[0m┃\u001b[1m \u001b[0m\u001b[1m      Param #\u001b[0m\u001b[1m \u001b[0m┃\n",
       "┡━━━━━━━━━━━━━━━━━━━━━━━━━━━━━━━━━╇━━━━━━━━━━━━━━━━━━━━━━━━╇━━━━━━━━━━━━━━━┩\n",
       "│ input_layer (\u001b[38;5;33mInputLayer\u001b[0m)        │ (\u001b[38;5;45mNone\u001b[0m, \u001b[38;5;34m2\u001b[0m)              │             \u001b[38;5;34m0\u001b[0m │\n",
       "├─────────────────────────────────┼────────────────────────┼───────────────┤\n",
       "│ Hidden_1 (\u001b[38;5;33mDense\u001b[0m)                │ (\u001b[38;5;45mNone\u001b[0m, \u001b[38;5;34m32\u001b[0m)             │            \u001b[38;5;34m96\u001b[0m │\n",
       "├─────────────────────────────────┼────────────────────────┼───────────────┤\n",
       "│ Hidden_2 (\u001b[38;5;33mDense\u001b[0m)                │ (\u001b[38;5;45mNone\u001b[0m, \u001b[38;5;34m16\u001b[0m)             │           \u001b[38;5;34m528\u001b[0m │\n",
       "├─────────────────────────────────┼────────────────────────┼───────────────┤\n",
       "│ Output (\u001b[38;5;33mDense\u001b[0m)                  │ (\u001b[38;5;45mNone\u001b[0m, \u001b[38;5;34m1\u001b[0m)              │            \u001b[38;5;34m17\u001b[0m │\n",
       "└─────────────────────────────────┴────────────────────────┴───────────────┘\n"
      ]
     },
     "metadata": {},
     "output_type": "display_data"
    },
    {
     "data": {
      "text/html": [
       "<pre style=\"white-space:pre;overflow-x:auto;line-height:normal;font-family:Menlo,'DejaVu Sans Mono',consolas,'Courier New',monospace\"><span style=\"font-weight: bold\"> Total params: </span><span style=\"color: #00af00; text-decoration-color: #00af00\">641</span> (2.50 KB)\n",
       "</pre>\n"
      ],
      "text/plain": [
       "\u001b[1m Total params: \u001b[0m\u001b[38;5;34m641\u001b[0m (2.50 KB)\n"
      ]
     },
     "metadata": {},
     "output_type": "display_data"
    },
    {
     "data": {
      "text/html": [
       "<pre style=\"white-space:pre;overflow-x:auto;line-height:normal;font-family:Menlo,'DejaVu Sans Mono',consolas,'Courier New',monospace\"><span style=\"font-weight: bold\"> Trainable params: </span><span style=\"color: #00af00; text-decoration-color: #00af00\">641</span> (2.50 KB)\n",
       "</pre>\n"
      ],
      "text/plain": [
       "\u001b[1m Trainable params: \u001b[0m\u001b[38;5;34m641\u001b[0m (2.50 KB)\n"
      ]
     },
     "metadata": {},
     "output_type": "display_data"
    },
    {
     "data": {
      "text/html": [
       "<pre style=\"white-space:pre;overflow-x:auto;line-height:normal;font-family:Menlo,'DejaVu Sans Mono',consolas,'Courier New',monospace\"><span style=\"font-weight: bold\"> Non-trainable params: </span><span style=\"color: #00af00; text-decoration-color: #00af00\">0</span> (0.00 B)\n",
       "</pre>\n"
      ],
      "text/plain": [
       "\u001b[1m Non-trainable params: \u001b[0m\u001b[38;5;34m0\u001b[0m (0.00 B)\n"
      ]
     },
     "metadata": {},
     "output_type": "display_data"
    }
   ],
   "source": [
    "from tensorflow.keras.models import Model\n",
    "from tensorflow.keras.layers import Input, Dense\n",
    "\n",
    "# Define the input layer\n",
    "inputs = Input(shape=(2,))\n",
    "\n",
    "# Define the layers\n",
    "x1 = Dense(32, activation='relu', name=\"Hidden_1\")(inputs)   # Hidden Layer 1\n",
    "x2 = Dense(16, activation='relu', name=\"Hidden_2\")(x1)       # Hidden Layer 2\n",
    "outputs = Dense(1, activation='sigmoid',name=\"Output\")(x2)  # Output Layer\n",
    "\n",
    "# Create the model using the Functional API\n",
    "model_2 = Model(inputs=inputs, outputs=outputs, name=\"Functional\")\n",
    "model_2.summary()"
   ]
  },
  {
   "cell_type": "markdown",
   "metadata": {},
   "source": [
    "### Model Subclassing\n",
    "\n",
    "**Model Subclassing** provides maximum flexibility and customization for building neural networks in Keras. It involves creating a custom class that inherits from the `tf.keras.Model` class and defining the network layers and their forward pass within the class. This approach is particularly useful when building complex models that require dynamic behavior or custom training loops.\n",
    "\n",
    "- **Create a Custom Class**: Inherit from `tf.keras.Model` and define layers in the `__init__` method.\n",
    "- **Define the Forward Pass**: Implement the `call()` method, which specifies how the data flows through the layers.\n",
    "\n",
    "**Example:**"
   ]
  },
  {
   "cell_type": "code",
   "execution_count": 5,
   "metadata": {},
   "outputs": [
    {
     "data": {
      "text/html": [
       "<pre style=\"white-space:pre;overflow-x:auto;line-height:normal;font-family:Menlo,'DejaVu Sans Mono',consolas,'Courier New',monospace\"><span style=\"font-weight: bold\">Model: \"Subclassed\"</span>\n",
       "</pre>\n"
      ],
      "text/plain": [
       "\u001b[1mModel: \"Subclassed\"\u001b[0m\n"
      ]
     },
     "metadata": {},
     "output_type": "display_data"
    },
    {
     "data": {
      "text/html": [
       "<pre style=\"white-space:pre;overflow-x:auto;line-height:normal;font-family:Menlo,'DejaVu Sans Mono',consolas,'Courier New',monospace\">┏━━━━━━━━━━━━━━━━━━━━━━━━━━━━━━━━━┳━━━━━━━━━━━━━━━━━━━━━━━━┳━━━━━━━━━━━━━━━┓\n",
       "┃<span style=\"font-weight: bold\"> Layer (type)                    </span>┃<span style=\"font-weight: bold\"> Output Shape           </span>┃<span style=\"font-weight: bold\">       Param # </span>┃\n",
       "┡━━━━━━━━━━━━━━━━━━━━━━━━━━━━━━━━━╇━━━━━━━━━━━━━━━━━━━━━━━━╇━━━━━━━━━━━━━━━┩\n",
       "│ Hidden_1 (<span style=\"color: #0087ff; text-decoration-color: #0087ff\">Dense</span>)                │ (<span style=\"color: #00af00; text-decoration-color: #00af00\">1</span>, <span style=\"color: #00af00; text-decoration-color: #00af00\">32</span>)                │            <span style=\"color: #00af00; text-decoration-color: #00af00\">96</span> │\n",
       "├─────────────────────────────────┼────────────────────────┼───────────────┤\n",
       "│ Hidden_2 (<span style=\"color: #0087ff; text-decoration-color: #0087ff\">Dense</span>)                │ (<span style=\"color: #00af00; text-decoration-color: #00af00\">1</span>, <span style=\"color: #00af00; text-decoration-color: #00af00\">16</span>)                │           <span style=\"color: #00af00; text-decoration-color: #00af00\">528</span> │\n",
       "├─────────────────────────────────┼────────────────────────┼───────────────┤\n",
       "│ Output (<span style=\"color: #0087ff; text-decoration-color: #0087ff\">Dense</span>)                  │ (<span style=\"color: #00af00; text-decoration-color: #00af00\">1</span>, <span style=\"color: #00af00; text-decoration-color: #00af00\">1</span>)                 │            <span style=\"color: #00af00; text-decoration-color: #00af00\">17</span> │\n",
       "└─────────────────────────────────┴────────────────────────┴───────────────┘\n",
       "</pre>\n"
      ],
      "text/plain": [
       "┏━━━━━━━━━━━━━━━━━━━━━━━━━━━━━━━━━┳━━━━━━━━━━━━━━━━━━━━━━━━┳━━━━━━━━━━━━━━━┓\n",
       "┃\u001b[1m \u001b[0m\u001b[1mLayer (type)                   \u001b[0m\u001b[1m \u001b[0m┃\u001b[1m \u001b[0m\u001b[1mOutput Shape          \u001b[0m\u001b[1m \u001b[0m┃\u001b[1m \u001b[0m\u001b[1m      Param #\u001b[0m\u001b[1m \u001b[0m┃\n",
       "┡━━━━━━━━━━━━━━━━━━━━━━━━━━━━━━━━━╇━━━━━━━━━━━━━━━━━━━━━━━━╇━━━━━━━━━━━━━━━┩\n",
       "│ Hidden_1 (\u001b[38;5;33mDense\u001b[0m)                │ (\u001b[38;5;34m1\u001b[0m, \u001b[38;5;34m32\u001b[0m)                │            \u001b[38;5;34m96\u001b[0m │\n",
       "├─────────────────────────────────┼────────────────────────┼───────────────┤\n",
       "│ Hidden_2 (\u001b[38;5;33mDense\u001b[0m)                │ (\u001b[38;5;34m1\u001b[0m, \u001b[38;5;34m16\u001b[0m)                │           \u001b[38;5;34m528\u001b[0m │\n",
       "├─────────────────────────────────┼────────────────────────┼───────────────┤\n",
       "│ Output (\u001b[38;5;33mDense\u001b[0m)                  │ (\u001b[38;5;34m1\u001b[0m, \u001b[38;5;34m1\u001b[0m)                 │            \u001b[38;5;34m17\u001b[0m │\n",
       "└─────────────────────────────────┴────────────────────────┴───────────────┘\n"
      ]
     },
     "metadata": {},
     "output_type": "display_data"
    },
    {
     "data": {
      "text/html": [
       "<pre style=\"white-space:pre;overflow-x:auto;line-height:normal;font-family:Menlo,'DejaVu Sans Mono',consolas,'Courier New',monospace\"><span style=\"font-weight: bold\"> Total params: </span><span style=\"color: #00af00; text-decoration-color: #00af00\">641</span> (2.50 KB)\n",
       "</pre>\n"
      ],
      "text/plain": [
       "\u001b[1m Total params: \u001b[0m\u001b[38;5;34m641\u001b[0m (2.50 KB)\n"
      ]
     },
     "metadata": {},
     "output_type": "display_data"
    },
    {
     "data": {
      "text/html": [
       "<pre style=\"white-space:pre;overflow-x:auto;line-height:normal;font-family:Menlo,'DejaVu Sans Mono',consolas,'Courier New',monospace\"><span style=\"font-weight: bold\"> Trainable params: </span><span style=\"color: #00af00; text-decoration-color: #00af00\">641</span> (2.50 KB)\n",
       "</pre>\n"
      ],
      "text/plain": [
       "\u001b[1m Trainable params: \u001b[0m\u001b[38;5;34m641\u001b[0m (2.50 KB)\n"
      ]
     },
     "metadata": {},
     "output_type": "display_data"
    },
    {
     "data": {
      "text/html": [
       "<pre style=\"white-space:pre;overflow-x:auto;line-height:normal;font-family:Menlo,'DejaVu Sans Mono',consolas,'Courier New',monospace\"><span style=\"font-weight: bold\"> Non-trainable params: </span><span style=\"color: #00af00; text-decoration-color: #00af00\">0</span> (0.00 B)\n",
       "</pre>\n"
      ],
      "text/plain": [
       "\u001b[1m Non-trainable params: \u001b[0m\u001b[38;5;34m0\u001b[0m (0.00 B)\n"
      ]
     },
     "metadata": {},
     "output_type": "display_data"
    }
   ],
   "source": [
    "import tensorflow as tf\n",
    "from tensorflow.keras.layers import Dense\n",
    "\n",
    "# Define a custom model by subclassing tf.keras.Model\n",
    "class CustomModel(tf.keras.Model):\n",
    "    def __init__(self):\n",
    "        super(CustomModel, self).__init__()\n",
    "        self.name = 'Subclassed'\n",
    "        self.dense1 = Dense(32, activation='relu', name='Hidden_1')   # Hidden Layer 1\n",
    "        self.dense2 = Dense(16, activation='relu', name='Hidden_2')   # Hidden Layer 2\n",
    "        self.out = Dense(1, activation='sigmoid', name='Output')      # Output Layer\n",
    "\n",
    "    def call(self, inputs):\n",
    "        x = self.dense1(inputs)\n",
    "        x = self.dense2(x)\n",
    "        return self.out(x)\n",
    "\n",
    "# Instantiate the custom model\n",
    "model_3 = CustomModel()\n",
    "\n",
    "# Pass a dummy input to build the model (e.g., batch size 1, input shape 2)\n",
    "dummy_input = tf.zeros((1, 2))\n",
    "model_3(dummy_input)  # Call the model with the dummy input to build it\n",
    "\n",
    "model_3.summary()\n"
   ]
  },
  {
   "cell_type": "markdown",
   "metadata": {},
   "source": [
    "## Typical Activation Functions Used in Keras\n",
    "\n",
    "<a href=\"./images/ActivationFunctions.jpeg\"><img src='./images/ActivationFunctions.jpeg' style=height:12em></a><br>\n",
    "*Image source: https://www.linkedin.com/posts/iamprakhargupta_amazing-cheat-sheet-of-activation-functions-activity-7041231669860712449-OrVq/*\n",
    "\n",
    "Activation functions play a crucial role in neural networks, helping the model learn complex patterns by introducing non-linearity. In Keras, various activation functions are commonly used, each serving different purposes. Below are some of the most frequently used activation functions and their typical use cases:"
   ]
  },
  {
   "cell_type": "markdown",
   "metadata": {},
   "source": [
    "### 1. **ReLU (Rectified Linear Unit)**\n",
    "- **Syntax**: `activation='relu'`\n",
    "- **Description**:  \n",
    "  The most widely used activation function for hidden layers in neural networks, especially in convolutional and dense layers. It outputs the input value if it is positive; otherwise, it outputs zero.\n",
    "- **Formula**:  \n",
    "  $$ f(x) = \\max(0, x) $$\n",
    "- **Use Cases**:  \n",
    "  - Helps address the vanishing gradient problem.\n",
    "  - Efficient for deep networks.\n",
    "- **Advantages**:  \n",
    "  - Computationally efficient.\n",
    "  - Introduces sparsity (many neurons are inactive).\n",
    "- **Disadvantages**:  \n",
    "  - Can lead to the **dying ReLU** problem (neurons get stuck at zero and stop learning).\n",
    "  "
   ]
  },
  {
   "cell_type": "markdown",
   "metadata": {},
   "source": [
    "### 2. **Sigmoid**\n",
    "- **Syntax**: `activation='sigmoid'`\n",
    "- **Description**:  \n",
    "  The sigmoid activation squashes the input values between 0 and 1, making it suitable for binary classification tasks.\n",
    "- **Formula**:  \n",
    "  $$ f(x) = \\frac{1}{1 + e^{-x}} $$\n",
    "- **Use Cases**:  \n",
    "  - Often used in the **output layer** for binary classification.\n",
    "  - Good for modeling probabilities.\n",
    "- **Advantages**:  \n",
    "  - Provides a probabilistic interpretation.\n",
    "- **Disadvantages**:  \n",
    "  - Can cause **vanishing gradients** in deep networks.  \n",
    "#### Vanishing Gradients Problem\n",
    "\n",
    "The **vanishing gradients** problem occurs when the gradients become **exponentially small** during backpropagation in deep networks. This causes very small weight updates, making the model training **slow** or **unable to learn** effectively, especially in early layers. It commonly happens with activation functions like **sigmoid** and **tanh**."
   ]
  },
  {
   "cell_type": "markdown",
   "metadata": {},
   "source": [
    "### 3. **Tanh (Hyperbolic Tangent)**\n",
    "- **Syntax**: `activation='tanh'`\n",
    "- **Description**:  \n",
    "  Similar to sigmoid but scales the output between -1 and 1, making it zero-centered.\n",
    "- **Formula**:  \n",
    "  $$ f(x) = \\frac{e^x - e^{-x}}{e^x + e^{-x}} $$\n",
    "- **Use Cases**:  \n",
    "  - Often used in recurrent neural networks (RNNs).\n",
    "  - Helps with learning complex patterns in sequential data.\n",
    "- **Advantages**:  \n",
    "  - Zero-centered, making it more effective for gradient updates.\n",
    "- **Disadvantages**:  \n",
    "  - Suffers from **vanishing gradient** problems like the sigmoid function."
   ]
  },
  {
   "cell_type": "markdown",
   "metadata": {},
   "source": [
    "### 4. **Softmax**\n",
    "- **Syntax**: `activation='softmax'`\n",
    "- **Description**:  \n",
    "  It is a generalization of the logistic function to multiple dimensions.\n",
    "  Converts a vector of raw scores into probabilities, where the sum of all probabilities is 1. Typically used in the output layer for multi-class classification.\n",
    "- **Formula**:  \n",
    "  $$ f(x_i) = \\frac{e^{x_i}}{\\sum_{j} e^{x_j}} $$\n",
    "- **Use Cases**:  \n",
    "  - Multi-class classification problems.\n",
    "- **Advantages**:  \n",
    "  - Outputs a clear probability distribution across classes.\n",
    "- **Disadvantages**:  \n",
    "  - Can be sensitive to outliers, leading to large gradients."
   ]
  },
  {
   "cell_type": "markdown",
   "metadata": {},
   "source": [
    "### 5. **Leaky ReLU**\n",
    "- **Syntax**: `activation='leaky_relu'` (or use `tf.keras.layers.LeakyReLU(alpha=0.3)`)\n",
    "- **Description**:  \n",
    "  A variant of ReLU that allows a small, non-zero gradient when the input is negative, addressing the **dying ReLU** problem.\n",
    "- **Formula**:  \n",
    "  $$ f(x) = \\begin{cases} \n",
    "      x & \\text{if } x \\geq 0 \\\\ \n",
    "      \\alpha x & \\text{if } x < 0 \n",
    "      \\end{cases} $$\n",
    "- **Use Cases**:  \n",
    "  - Good for deep networks prone to dying ReLU.\n",
    "- **Advantages**:  \n",
    "  - Prevents neurons from becoming inactive.\n",
    "- **Disadvantages**:  \n",
    "  - Adds an extra hyperparameter (`alpha`).\n"
   ]
  },
  {
   "cell_type": "markdown",
   "metadata": {},
   "source": [
    "### 6. **Swish**\n",
    "- **Syntax**: `activation='swish'` (or use `tf.keras.activations.swish`)\n",
    "- **Description**:  \n",
    "  A newer activation function proposed by Google that outperforms ReLU on some deep networks. It’s a smooth, non-monotonic function.\n",
    "- **Formula**:  \n",
    "  $$ f(x) = x \\cdot \\text{sigmoid}(x) $$\n",
    "- **Use Cases**:  \n",
    "  - Useful for deep networks in vision and NLP tasks.\n",
    "- **Advantages**:  \n",
    "  - Smooth, non-monotonic, avoids the dying ReLU problem.\n",
    "- **Disadvantages**:  \n",
    "  - Computationally more expensive.\n",
    "\n",
    "### Choosing the Right Activation Function\n",
    "- **For Hidden Layers**: Use `ReLU` or its variants (`Leaky ReLU`, `Swish`).\n",
    "- **For Binary Classification**: Use `sigmoid` in the **output layer**.\n",
    "- **For Multi-Class Classification**: Use `softmax` in the **output layer**.\n",
    "- **For Regression**: Use **no activation** (or `linear`).\n",
    "\n",
    "### Summary\n",
    "Activation functions are a crucial component in Keras models, transforming the linear outputs of each layer into non-linear ones, enabling the network to learn complex patterns. Choose the activation function based on the type of task and the layer’s role in the network.\n",
    "\n",
    "For more details, refer to the [Keras Documentation](https://keras.io/api/layers/activations/)\n"
   ]
  },
  {
   "cell_type": "markdown",
   "metadata": {},
   "source": [
    "## Compile the Model\n",
    "\n",
    "Refenrence: [Keras: compile method](https://keras.io/api/models/model_training_apis/#compile-method)\n",
    "\n",
    "Model compilation is a crucial step that defines how the model learns and optimizes its weights. During compilation, the optimizer, loss function, and evaluation metrics are specified. These parameters determine how the model will be trained and evaluated.\n",
    "\n",
    "### Key Components:\n",
    "1. **Optimizer**:\n",
    "   - Controls how the model updates its weights during training.\n",
    "   - Common optimizers: `adam`, `sgd`, `rmsprop`.\n",
    "   - Example: `optimizer='adam'`\n",
    "\n",
    "2. **Loss Function**:\n",
    "   - Measures the difference between the true labels and model predictions.\n",
    "   - For classification: `binary_crossentropy`, `categorical_crossentropy`.\n",
    "   - For regression: `mean_squared_error`.\n",
    "   - Example: `loss='binary_crossentropy'`\n",
    "\n",
    "3. **Metrics**:\n",
    "   - Used to evaluate the model's performance during training and testing.\n",
    "   - Common metrics: `accuracy`, `precision`, `recall`.\n",
    "   - Example: `metrics=['accuracy']`\n",
    "\n",
    "### Example: Model Compilation"
   ]
  },
  {
   "cell_type": "code",
   "execution_count": 6,
   "metadata": {},
   "outputs": [],
   "source": [
    "# Compile the model with optimizer, loss function, and metrics\n",
    "model_1.compile(\n",
    "    optimizer='adam',\n",
    "    loss='binary_crossentropy',\n",
    "    metrics=['accuracy']\n",
    ")"
   ]
  },
  {
   "cell_type": "markdown",
   "metadata": {},
   "source": [
    "**Explanation**:\n",
    "\n",
    "`optimizer='adam'`: Uses the Adam optimizer, which is a popular choice due to its adaptive learning rate and efficient performance.\n",
    "\n",
    "`loss='binary_crossentropy'`: Specifies the loss function for binary classification tasks.\n",
    "\n",
    "`metrics=['accuracy']`: Sets the evaluation metric to track the accuracy of the model during training.\n"
   ]
  },
  {
   "cell_type": "markdown",
   "metadata": {},
   "source": [
    "## Plot the Model\n",
    "\n",
    "Refenrence: [Keras: plotmodel](https://keras.io/api/utils/model_plotting_utils/#plotmodel-function)\n",
    "\n",
    "To plot a visual representation of your Keras model architecture, you can use the plot_model utility provided by Keras. This utility creates a diagram that helps you visualize the structure of your model, showing all the layers, connections, and their respective shapes"
   ]
  },
  {
   "cell_type": "code",
   "execution_count": 7,
   "metadata": {},
   "outputs": [
    {
     "data": {
      "image/png": "[encoded data removed]",
      "text/plain": [
       "<IPython.core.display.Image object>"
      ]
     },
     "execution_count": 7,
     "metadata": {},
     "output_type": "execute_result"
    }
   ],
   "source": [
    "# Plot the model\n",
    "tf.keras.utils.plot_model(model_1, to_file='model_plot.png', show_shapes=True, show_layer_names=True)"
   ]
  },
  {
   "cell_type": "markdown",
   "metadata": {},
   "source": [
    "## Training the Model\n",
    "\n",
    "Refenrence: [Keras: fit method](https://keras.io/api/models/model_training_apis/#fit-method)\n",
    "\n",
    "Training a model in Keras is done using the `fit` method. This method performs forward and backward passes through the network, updates the model weights based on the loss function, and monitors performance metrics over multiple epochs. During training, you can also specify data validation to track the model’s progress on unseen data.\n",
    "\n",
    "### Key Parameters of the `fit` Method:\n",
    "1. **x**: Input data (e.g., training features).\n",
    "2. **y**: Target labels corresponding to the input data.\n",
    "3. **epochs**: Number of complete passes through the entire training dataset.\n",
    "4. **batch_size**: Number of samples per gradient update. Smaller batches use less memory but may result in less stable updates.\n",
    "5. **validation_split**: Fraction of training data to be used for validation (e.g., `0.2` for 20% validation data). The Validation set is used during training to monitor and optimize the model (e.g., early stopping).\n",
    "6. **callbacks**: List of callback functions to monitor the training (e.g., early stopping, model checkpointing).\n",
    "\n",
    "### Example: Training a Simple Model\n",
    "\n",
    "*For this simple demo, we'll set*:\n",
    "\n",
    "`epochs=2`: The model will train for 2 complete passes over the training data.\n",
    "\n",
    "`batch_size=3`: For each update, 3 samples will be processed before updating the model weights.\n",
    "\n",
    "`validation_split=0`.2: Keras will reserve 20% of the training data for validation."
   ]
  },
  {
   "cell_type": "code",
   "execution_count": 8,
   "metadata": {},
   "outputs": [
    {
     "name": "stdout",
     "output_type": "stream",
     "text": [
      "Epoch 1/10\n",
      "\u001b[1m2/2\u001b[0m \u001b[32m━━━━━━━━━━━━━━━━━━━━\u001b[0m\u001b[37m\u001b[0m \u001b[1m2s\u001b[0m 235ms/step - accuracy: 0.4444 - loss: 0.7088 - val_accuracy: 0.0000e+00 - val_loss: 1.0144\n",
      "Epoch 2/10\n",
      "\u001b[1m2/2\u001b[0m \u001b[32m━━━━━━━━━━━━━━━━━━━━\u001b[0m\u001b[37m\u001b[0m \u001b[1m0s\u001b[0m 28ms/step - accuracy: 0.5556 - loss: 0.6709 - val_accuracy: 0.0000e+00 - val_loss: 1.0448\n",
      "Epoch 3/10\n",
      "\u001b[1m2/2\u001b[0m \u001b[32m━━━━━━━━━━━━━━━━━━━━\u001b[0m\u001b[37m\u001b[0m \u001b[1m0s\u001b[0m 29ms/step - accuracy: 0.4444 - loss: 0.6921 - val_accuracy: 0.0000e+00 - val_loss: 1.0580\n",
      "Epoch 4/10\n",
      "\u001b[1m2/2\u001b[0m \u001b[32m━━━━━━━━━━━━━━━━━━━━\u001b[0m\u001b[37m\u001b[0m \u001b[1m0s\u001b[0m 26ms/step - accuracy: 0.5556 - loss: 0.6537 - val_accuracy: 0.0000e+00 - val_loss: 1.0709\n",
      "Epoch 5/10\n",
      "\u001b[1m2/2\u001b[0m \u001b[32m━━━━━━━━━━━━━━━━━━━━\u001b[0m\u001b[37m\u001b[0m \u001b[1m0s\u001b[0m 27ms/step - accuracy: 0.5556 - loss: 0.6669 - val_accuracy: 0.0000e+00 - val_loss: 1.0594\n",
      "Epoch 6/10\n",
      "\u001b[1m2/2\u001b[0m \u001b[32m━━━━━━━━━━━━━━━━━━━━\u001b[0m\u001b[37m\u001b[0m \u001b[1m0s\u001b[0m 28ms/step - accuracy: 0.4444 - loss: 0.7011 - val_accuracy: 0.0000e+00 - val_loss: 1.0485\n",
      "Epoch 7/10\n",
      "\u001b[1m2/2\u001b[0m \u001b[32m━━━━━━━━━━━━━━━━━━━━\u001b[0m\u001b[37m\u001b[0m \u001b[1m0s\u001b[0m 30ms/step - accuracy: 0.4444 - loss: 0.6991 - val_accuracy: 0.0000e+00 - val_loss: 1.0534\n",
      "Epoch 8/10\n",
      "\u001b[1m2/2\u001b[0m \u001b[32m━━━━━━━━━━━━━━━━━━━━\u001b[0m\u001b[37m\u001b[0m \u001b[1m0s\u001b[0m 31ms/step - accuracy: 0.4444 - loss: 0.6879 - val_accuracy: 0.0000e+00 - val_loss: 1.0684\n",
      "Epoch 9/10\n",
      "\u001b[1m2/2\u001b[0m \u001b[32m━━━━━━━━━━━━━━━━━━━━\u001b[0m\u001b[37m\u001b[0m \u001b[1m0s\u001b[0m 29ms/step - accuracy: 0.5556 - loss: 0.6670 - val_accuracy: 0.0000e+00 - val_loss: 1.0842\n",
      "Epoch 10/10\n",
      "\u001b[1m2/2\u001b[0m \u001b[32m━━━━━━━━━━━━━━━━━━━━\u001b[0m\u001b[37m\u001b[0m \u001b[1m0s\u001b[0m 30ms/step - accuracy: 0.5556 - loss: 0.6491 - val_accuracy: 0.0000e+00 - val_loss: 1.0873\n"
     ]
    }
   ],
   "source": [
    "import numpy as np\n",
    "\n",
    "# Generate dummy training data with 5 samples and 2 features\n",
    "x_train = np.array([[1, 2], [2, 3], [3, 4], [4, 5], [5, 6]])\n",
    "y_train = np.array([0, 1, 0, 1, 0])\n",
    "\n",
    "# Train the model using the fit method\n",
    "history = model_1.fit(\n",
    "    x_train, y_train,\n",
    "    epochs=10,                 # Number of epochs to train the model\n",
    "    batch_size=3,              # Number of samples per batch\n",
    "    validation_split=0.2       # Use 20% of the data for validation\n",
    ")"
   ]
  },
  {
   "cell_type": "markdown",
   "metadata": {},
   "source": [
    "### Training vs Validation Metrics\n",
    "\n",
    "- **Training Accuracy / Loss**:  \n",
    "  Indicates how well the model is learning on the **training data**. High training accuracy and low loss mean the model fits the training data well.\n",
    "\n",
    "- **Validation Accuracy (`val_accuracy`) / Validation Loss (`val_loss`)**:  \n",
    "  Measures the model’s performance on **validation data** set aside during training. \n",
    "  \n",
    "  A large gap between training and validation metrics (e.g., high accuracy but low `val_accuracy`) suggests **overfitting**.\n"
   ]
  },
  {
   "cell_type": "markdown",
   "metadata": {},
   "source": [
    "### Return value: `history` object\n",
    "\n",
    "The History object returned by model.fit() can be used for more detailed analysis of trainin, visualization, and further tunning actions. "
   ]
  },
  {
   "cell_type": "code",
   "execution_count": 9,
   "metadata": {},
   "outputs": [
    {
     "data": {
      "image/png": "[encoded data removed]",
      "text/plain": [
       "<Figure size 600x300 with 1 Axes>"
      ]
     },
     "metadata": {},
     "output_type": "display_data"
    }
   ],
   "source": [
    "import matplotlib.pyplot as plt\n",
    "\n",
    "def plot_training_history(history):\n",
    "    epochs = range(1, len(history.history['accuracy']) + 1)  # Create a range of epochs [1, 2, ..., n]\n",
    "\n",
    "    plt.figure(figsize=(6, 3))  # Set the figure size\n",
    "\n",
    "    # Plot training and validation accuracy\n",
    "    plt.plot(epochs, history.history['accuracy'], 'bo-', label='Training Accuracy')  # Blue dots and line\n",
    "    plt.plot(epochs, history.history['val_accuracy'], 'b--', label='Validation Accuracy')  # Blue dashed line\n",
    "\n",
    "    # Plot training and validation loss\n",
    "    plt.plot(epochs, history.history['loss'], 'ro-', label='Training Loss')  # Red dots and line\n",
    "    plt.plot(epochs, history.history['val_loss'], 'r--', label='Validation Loss')  # Red dashed line\n",
    "\n",
    "    # Add labels, legend, and set grid\n",
    "    plt.title('Training and Validation Metrics')\n",
    "    plt.xlabel('Epochs')\n",
    "    plt.ylabel('Value')\n",
    "    plt.xticks(epochs)\n",
    "    plt.legend(loc='upper left', bbox_to_anchor=(1, 1))\n",
    "    plt.grid(True)\n",
    "    plt.show()\n",
    "\n",
    "# Example usage\n",
    "plot_training_history(history)\n"
   ]
  },
  {
   "cell_type": "markdown",
   "metadata": {},
   "source": [
    "## Evaluating the Model\n",
    "\n",
    "Refenrence: [Keras: evaluate method](https://keras.io/api/models/model_training_apis/#evaluate-method)\n",
    "\n",
    "After training, the model needs to be evaluated to assess its performance on unseen test data. In Keras, this is done using the `evaluate` method, which computes the loss and other metrics defined during model compilation.\n",
    "\n",
    "*Key Points:*\n",
    "- **Purpose**: Measure how well the model generalizes to new data.\n",
    "- **Output**: Returns the loss value and any other specified metrics, such as accuracy.\n",
    "\n",
    "### Key Parameters of the `evaluate` Method:\n",
    "1. **x**: Test features or input data (e.g., `x_test`).\n",
    "2. **y**: Test labels corresponding to the input data (e.g., `y_test`).\n",
    "3. **batch_size**: Number of samples per batch. Defaults to 32.\n",
    "4. **verbose**: Verbosity mode (0 = silent, 1 = progress bar, 2 = one line per epoch).\n",
    "\n",
    "### Example: Evaluating a Model on Test Data\n"
   ]
  },
  {
   "cell_type": "code",
   "execution_count": 10,
   "metadata": {},
   "outputs": [
    {
     "name": "stdout",
     "output_type": "stream",
     "text": [
      "\u001b[1m1/1\u001b[0m \u001b[32m━━━━━━━━━━━━━━━━━━━━\u001b[0m\u001b[37m\u001b[0m \u001b[1m0s\u001b[0m 29ms/step - accuracy: 0.4000 - loss: 0.8016\n",
      "Test Loss: 0.8016044497489929\n",
      "Test Accuracy: 0.4000000059604645\n"
     ]
    }
   ],
   "source": [
    "# Generate dummy test data (5 samples, 2 features each)\n",
    "x_test = np.array([[2, 4], [3, 6], [4, 8], [5, 10], [6, 12]])\n",
    "y_test = np.array([0, 1, 0, 1, 0])  # Binary labels\n",
    "\n",
    "# Evaluate the model on test data\n",
    "test_loss, test_accuracy = model_1.evaluate(x_test, y_test, batch_size=32, verbose=1)\n",
    "print(f\"Test Loss: {test_loss}\")\n",
    "print(f\"Test Accuracy: {test_accuracy}\")\n"
   ]
  },
  {
   "cell_type": "markdown",
   "metadata": {},
   "source": [
    "### Return value\n",
    "\n",
    "The `model.evaluate()` method returns a **tuple** containing the **loss** and the specified **metrics** values for the given dataset.\n",
    "\n",
    "- If the model has a single loss function and a single metric, it returns a tuple with:\n",
    "  ```python\n",
    "  (loss, metric1)\n",
    "  ```\n",
    "\n",
    "- If multiple metrics were specified during model.compile(), it returns a tuple with all of them:\n",
    "  ```python\n",
    "  (loss, metric1, metric2, ...)\n",
    "  ```\n",
    "\n"
   ]
  },
  {
   "cell_type": "markdown",
   "metadata": {},
   "source": [
    "## Predicting with the Model\n",
    "\n",
    "Refenrence: [Keras: predict method](https://keras.io/api/models/model_training_apis/#predict-method)\n",
    "\n",
    "Once the model is trained and evaluated, it can be used to make predictions on new, unseen data. This is done using the `predict` method in Keras, which returns the predicted values for the input data.\n",
    "\n",
    "*Key Points*\n",
    "- **Purpose**: To generate predictions on new data (e.g., class labels, probabilities, or regression values).\n",
    "- **Output**: Returns an array of predicted values based on the model's learned weights.\n",
    "\n",
    "### Key Parameters of the `predict` Method:\n",
    "1. **x**: Input data for which predictions are to be made (e.g., `x_new`).\n",
    "2. **batch_size**: Number of samples per batch. Defaults to 32.\n",
    "3. **verbose**: Verbosity mode (0 = silent, 1 = progress bar).\n",
    "\n",
    "### Example: Making Predictions on New Data"
   ]
  },
  {
   "cell_type": "code",
   "execution_count": 11,
   "metadata": {},
   "outputs": [
    {
     "name": "stdout",
     "output_type": "stream",
     "text": [
      "\u001b[1m1/1\u001b[0m \u001b[32m━━━━━━━━━━━━━━━━━━━━\u001b[0m\u001b[37m\u001b[0m \u001b[1m0s\u001b[0m 61ms/step\n",
      "[[0.742316 ]\n",
      " [0.7707486]\n",
      " [0.7969026]]\n"
     ]
    }
   ],
   "source": [
    "# Predict on new input data\n",
    "\n",
    "# Generate new input data (3 samples, 2 features each)\n",
    "x_new = np.array([[7, 14], [8, 16], [9, 18]])\n",
    "\n",
    "predictions = model_1.predict(x_new, batch_size=32, verbose=1)\n",
    "print(predictions)"
   ]
  },
  {
   "cell_type": "markdown",
   "metadata": {},
   "source": [
    "### Return Value\n",
    "\n",
    "The `predict()` method in Keras returns a **NumPy array** containing the predicted values for each input sample.   \n",
    "The shape and contents of the returned array depend on the model architecture and the type of problem being solved.\n",
    "\n",
    "#### Typical Scenarios:"
   ]
  },
  {
   "cell_type": "markdown",
   "metadata": {},
   "source": [
    "1. **Binary Classification**:\n",
    "  - If your model has a **single output neuron** with a `sigmoid` activation, the `predict()` method returns an array of **probabilities**.\n",
    "  - **Shape**: `(num_samples, 1)`  \n",
    "  - **Example**:  \n",
    "    For `x_new = [[7, 14], [8, 16], [9, 18]]`, the output might look like:  \n",
    "      ```python\n",
    "      [[0.6285038 ],\n",
    "        [0.64950544],\n",
    "        [0.66994363]]\n",
    "     ```\n",
    "  - **Interpretation**: Each value represents the **probability** of the sample belonging to the positive class (`1`). \n",
    "  \n",
    "  - **Convert probabilities** \n",
    "    You can convert probabilities into binary classes using a threshold (e.g., 0.5)."
   ]
  },
  {
   "cell_type": "code",
   "execution_count": 12,
   "metadata": {},
   "outputs": [
    {
     "name": "stdout",
     "output_type": "stream",
     "text": [
      "[[0]\n",
      " [1]\n",
      " [1]]\n"
     ]
    }
   ],
   "source": [
    "predictions = np.array([\n",
    "      [0.3285038],\n",
    "      [0.54950544],\n",
    "      [0.86994363]\n",
    "])\n",
    "binary_predictions = (predictions >= 0.5).astype(int)\n",
    "print(binary_predictions)"
   ]
  },
  {
   "cell_type": "markdown",
   "metadata": {},
   "source": [
    "2. **Multi-Class Classification**:\n",
    "   - If your model has **multiple output neurons** with a `softmax` activation, the `predict()` method returns an array of **probability distributions** over all classes.\n",
    "   - **Shape**: `(num_samples, num_classes)`  \n",
    "   - **Example**:  \n",
    "    For a 3-class classification problem:  \n",
    "     ```python\n",
    "     [[0.1, 0.3, 0.6],   # Predicted probability distribution for sample 1\n",
    "      [0.7, 0.2, 0.1],   # Predicted probability distribution for sample 2\n",
    "      [0.2, 0.5, 0.3]]   # Predicted probability distribution for sample 3\n",
    "     ```\n",
    "   - **Interpretation**: Each value in a row corresponds to the probability of the sample belonging to a particular class. \n",
    "   \n",
    "   - **Convert probabilities**:\n",
    "      You can use `np.argmax` to convert these into class labels.\n",
    "      ```python\n",
    "      np.argmax(predictions, axis=1)\n",
    "      ```\n",
    "\n",
    "      - axis=1: Operates along the rows, meaning it looks for the highest probability within each row.\n",
    "      - Returns the index of the maximum value in each row, which corresponds to the predicted class."
   ]
  },
  {
   "cell_type": "code",
   "execution_count": 13,
   "metadata": {},
   "outputs": [
    {
     "name": "stdout",
     "output_type": "stream",
     "text": [
      "[2 1 1]\n"
     ]
    }
   ],
   "source": [
    "# Example of predicted probabilities for a 3-class classification problem\n",
    "predictions = np.array([\n",
    "      [0.2, 0.3, 0.5],  # Probabilities for Sample 1\n",
    "      [0.1, 0.7, 0.2],  # Probabilities for Sample 2\n",
    "      [0.3, 0.4, 0.3]   # Probabilities for Sample 3\n",
    "])\n",
    "\n",
    "# Convert probabilities to class labels using `argmax`\n",
    "class_labels = np.argmax(predictions, axis=1)\n",
    "print(class_labels)"
   ]
  },
  {
   "cell_type": "markdown",
   "metadata": {},
   "source": [
    "3. **Regression**:\n",
    "   - If your model is a **regression model** (without activation or using linear activation), the `predict()` method returns an array of **predicted values**.\n",
    "   - **Shape**: `(num_samples, output_neurons)`  \n",
    "   - **Example**:  \n",
    "     ```python\n",
    "     [[4.5],   # Predicted value for sample 1\n",
    "      [5.8],   # Predicted value for sample 2\n",
    "      [3.9]]   # Predicted value for sample 3\n",
    "     ```\n",
    "   - **Interpretation**: Each value represents the predicted output for the corresponding input sample.\n",
    "\n",
    "#### Summary:\n",
    "- The output format of `predict()` depends on the **model architecture** and the **task type**:\n",
    "  - **Binary classification**: Probabilities for positive class (`1`).\n",
    "  - **Multi-class classification**: Probability distribution over all classes.\n",
    "  - **Regression**: Predicted values directly.\n"
   ]
  },
  {
   "cell_type": "markdown",
   "metadata": {},
   "source": [
    "## Save the model \n",
    "\n",
    "Keras offers multiple formats to save models, each with its own use case and benefits. Understanding these formats can help you choose the right one for your application:\n",
    "\n",
    "### **Save in Native Keras Format (`.keras`)**\n",
    "- **Description**:  \n",
    "  The new, recommended format for saving Keras models starting from TensorFlow 2.11 and above. It is designed to replace the `.h5` format.\n",
    "- **Usage**:\n",
    "\n",
    "  Use:\n",
    "  `model.save('my_model.keras')`\n",
    "\n",
    "- **File**:  \n",
    "  Creates a single `my_model.keras` file.\n",
    "  \n",
    "- **Advantages**:\n",
    "  - Preserves complete information about the model (architecture, training configuration, and optimizer state).\n",
    "  - Future-proof, with better long-term support from Keras.\n",
    "  \n",
    "- **Disadvantages**:\n",
    "  - May not be backward compatible with older versions of Keras.\n",
    "\n",
    "\n",
    "### **Save in HDF5 Format (`.h5`)**\n",
    "- **Description**:  \n",
    "  HDF5 (`Hierarchical Data Format version 5`) is a single-file format that stores the entire model architecture, weights, and optimizer state.\n",
    "- **Usage**:  \n",
    "  This was the standard format in Keras for a long time.\n",
    "\n",
    "  Use:\n",
    "  `model.save('model.h5')`\n",
    "  \n",
    "- **File**:  \n",
    "  Creates a single `model.h5` file.\n",
    "- **Advantages**:\n",
    "  - Easy to share as a single file.\n",
    "  - Compatible with a wide range of Keras and TensorFlow versions.\n",
    "- **Disadvantages**:\n",
    "  - Considered a **legacy** format now.\n",
    "  - Lacks some of the new features supported by the native `.keras` format.\n",
    "\n",
    "\n",
    "### Choosing the Right Format\n",
    "- **For most use cases**: Use the **native `.keras` format** for long-term support.\n",
    "- **For compatibility with older tools**: Use the **HDF5 (`.h5`)** format."
   ]
  },
  {
   "cell_type": "code",
   "execution_count": 14,
   "metadata": {},
   "outputs": [],
   "source": [
    "# Save the model in the recommended Keras format\n",
    "model_1.save('my_model.keras')"
   ]
  },
  {
   "cell_type": "code",
   "execution_count": 15,
   "metadata": {},
   "outputs": [
    {
     "name": "stderr",
     "output_type": "stream",
     "text": [
      "WARNING:absl:You are saving your model as an HDF5 file via `model.save()` or `keras.saving.save_model(model)`. This file format is considered legacy. We recommend using instead the native Keras format, e.g. `model.save('my_model.keras')` or `keras.saving.save_model(model, 'my_model.keras')`. \n"
     ]
    }
   ],
   "source": [
    "# Save the model in the legacy HDF5 format\n",
    "model_1.save('model.h5')"
   ]
  },
  {
   "cell_type": "markdown",
   "metadata": {},
   "source": [
    "## Load Saved Model\n",
    "\n",
    "To use a previously trained and saved Keras model in your application, you need to **load** it first. Keras provides the `tf.keras.models.load_model()` function, which allows you to restore the complete model, including its architecture, weights, and training configuration.\n"
   ]
  },
  {
   "cell_type": "code",
   "execution_count": 16,
   "metadata": {},
   "outputs": [
    {
     "name": "stderr",
     "output_type": "stream",
     "text": [
      "WARNING:absl:Compiled the loaded model, but the compiled metrics have yet to be built. `model.compile_metrics` will be empty until you train or evaluate the model.\n"
     ]
    }
   ],
   "source": [
    "# Load the saved Keras model\n",
    "model = tf.keras.models.load_model('./model.h5')"
   ]
  },
  {
   "cell_type": "markdown",
   "metadata": {},
   "source": [
    "The warning is because we compiled our model with metrics, but on load the compiled metrics are not fully built until an evaluation or training step is performed.\n",
    "\n",
    "If you only want to use the model for predictions (e.g., model.predict()), this warning does not affect functionality, and you can safely ignore it. You can continue using model.predict() without re-compiling.\n",
    "\n",
    "If you plan to further train or evaluate the model with the original metrics, after loading the model, re-compile it to ensure all metrics are built properly"
   ]
  },
  {
   "cell_type": "code",
   "execution_count": 17,
   "metadata": {},
   "outputs": [],
   "source": [
    "model.compile(optimizer='adam', loss='binary_crossentropy', metrics=['accuracy'])"
   ]
  }
 ],
 "metadata": {
  "kernelspec": {
   "display_name": ".venv",
   "language": "python",
   "name": "python3"
  },
  "language_info": {
   "codemirror_mode": {
    "name": "ipython",
    "version": 3
   },
   "file_extension": ".py",
   "mimetype": "text/x-python",
   "name": "python",
   "nbconvert_exporter": "python",
   "pygments_lexer": "ipython3",
   "version": "3.12.3"
  }
 },
 "nbformat": 4,
 "nbformat_minor": 2
}
