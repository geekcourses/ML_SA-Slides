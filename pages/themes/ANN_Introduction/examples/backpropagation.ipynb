{
 "cells": [
  {
   "cell_type": "markdown",
   "metadata": {},
   "source": [
    "# Training Neural Networks. Backpropagation"
   ]
  },
  {
   "attachments": {},
   "cell_type": "markdown",
   "metadata": {},
   "source": [
    "## Introduction:\n",
    "\n",
    "\n",
    "Backpropagation is a popular algorithm used to train neural networks. It is a supervised learning technique that works by propagating errors backward through the network to adjust the weights and biases.\n",
    "\n",
    "Backpropagation is a method for computing the gradients of the loss function with respect to the weights of a neural network. These gradients can then be used to update the weights using an optimization algorithm such as stochastic gradient descent."
   ]
  },
  {
   "attachments": {},
   "cell_type": "markdown",
   "metadata": {},
   "source": [
    "## Backpropagation Algorithm\n",
    "\n",
    "Here's how it works in simple terms:\n",
    "\n",
    "1.  Feedforward: The input data is fed into the network, and the output is calculated by passing it through a series of interconnected nodes, also known as neurons.\n",
    "\n",
    "2.  Calculate Error: The difference between the predicted output and the actual output is calculated, and this is known as the error.\n",
    "\n",
    "3.  Backpropagation: The error is then propagated backwards through the network to adjust the weights and biases. The weights and biases are updated in the direction that reduces the error, using an optimization algorithm such as Stochastic Gradient Descent.\n",
    "\n",
    "4.  Repeat: Steps 1-3 are repeated for each example in the training dataset until the error is minimized."
   ]
  },
  {
   "attachments": {},
   "cell_type": "markdown",
   "metadata": {},
   "source": [
    "### Example:"
   ]
  },
  {
   "cell_type": "code",
   "execution_count": 7,
   "metadata": {},
   "outputs": [
    {
     "name": "stdout",
     "output_type": "stream",
     "text": [
      "Weights: [0.  0.1]\n",
      "Bias: 0.1\n",
      "Input: [0 0]\n",
      "Predicted Output: 1\n",
      "Input: [0 1]\n",
      "Predicted Output: 1\n",
      "Input: [1 0]\n",
      "Predicted Output: 1\n",
      "Input: [1 1]\n",
      "Predicted Output: 1\n"
     ]
    }
   ],
   "source": [
    "import numpy as np\n",
    "\n",
    "# Define the OR function\n",
    "def OR(x):\n",
    "    if np.sum(x) > 0:\n",
    "        return 1\n",
    "    else:\n",
    "        return 0\n",
    "\n",
    "# Define the perceptron function for OR\n",
    "def perceptron_learn(x, y, learning_rate=0.1, epochs=10):\n",
    "    # Initialize weights and bias to 0\n",
    "    w = np.zeros(len(x[0]))\n",
    "    b = 0\n",
    "    \n",
    "    # Iterate over epochs\n",
    "    for epoch in range(epochs):\n",
    "        # Iterate over each data point\n",
    "        for i in range(len(x)):\n",
    "            # Calculate the predicted output\n",
    "            y_pred = OR(np.dot(x[i], w) + b)\n",
    "            \n",
    "            # Update weights and bias if prediction is incorrect\n",
    "            if y[i] != y_pred:\n",
    "                w += learning_rate * y[i] * x[i]\n",
    "                b += learning_rate * y[i]\n",
    "                \n",
    "    # Return fitted model:\n",
    "    return w, b\n",
    "\n",
    "# Define the input data\n",
    "X_train = np.array([[0, 0], [0, 1], [1, 0], [1, 1]])\n",
    "\n",
    "# Define the target output\n",
    "y_train = np.array([0, 1, 1, 1])\n",
    "\n",
    "# Train the perceptron\n",
    "w, b = perceptron_learn(X_train, y_train)\n",
    "\n",
    "# Print the weights and bias\n",
    "print(\"Weights:\", w)\n",
    "print(\"Bias:\", b)\n",
    "\n",
    "# Test the perceptron on some test data\n",
    "test_data = np.array([[0, 0], [0, 1], [1, 0], [1, 1]])\n",
    "for i in range(len(test_data)):\n",
    "    x = test_data[i]\n",
    "    y_pred = OR(np.dot(x, w) + b)\n",
    "    print(\"Input:\", x)\n",
    "    print(\"Predicted Output:\", y_pred)\n",
    "\n",
    "\n"
   ]
  },
  {
   "cell_type": "code",
   "execution_count": null,
   "metadata": {},
   "outputs": [],
   "source": []
  }
 ],
 "metadata": {
  "kernelspec": {
   "display_name": ".venv",
   "language": "python",
   "name": "python3"
  },
  "language_info": {
   "codemirror_mode": {
    "name": "ipython",
    "version": 3
   },
   "file_extension": ".py",
   "mimetype": "text/x-python",
   "name": "python",
   "nbconvert_exporter": "python",
   "pygments_lexer": "ipython3",
   "version": "3.9.12"
  },
  "orig_nbformat": 4,
  "vscode": {
   "interpreter": {
    "hash": "80d53e83da47a8dbd3f05a73e91e3e7dbf0e420a2da730c28d0eaee714054d51"
   }
  }
 },
 "nbformat": 4,
 "nbformat_minor": 2
}
