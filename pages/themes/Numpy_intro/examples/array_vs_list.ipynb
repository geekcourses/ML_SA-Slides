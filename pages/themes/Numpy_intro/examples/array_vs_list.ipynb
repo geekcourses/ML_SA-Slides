{
 "cells": [
  {
   "cell_type": "code",
   "execution_count": 1,
   "metadata": {},
   "outputs": [],
   "source": [
    "import numpy as np"
   ]
  },
  {
   "cell_type": "markdown",
   "metadata": {},
   "source": [
    " # Speed Test (Numpy Arrays vs Python's Lists)\n",
    " \n",
    " Next code compares the performance of summing elements of two large sequences using Python lists and NumPy arrays."
   ]
  },
  {
   "cell_type": "code",
   "execution_count": 2,
   "metadata": {},
   "outputs": [],
   "source": [
    "# set a constant SIZE for the length of the sequences.\n",
    "SIZE = 2_000_000"
   ]
  },
  {
   "cell_type": "code",
   "execution_count": 10,
   "metadata": {},
   "outputs": [],
   "source": [
    "# calculate point to point sum on two lists:\n",
    "def calculate_python_lists_p2p_sum():\n",
    "    # create 2 Python's lists\n",
    "\tl1 = list(range(SIZE))\n",
    "\tl2 = list(range(SIZE))\n",
    "\n",
    "    # calculate point to point sum:\n",
    "\tresult = [(x+y) for x,y in zip(l1,l2)]\n",
    "\n",
    "\tprint(result[0:5])\n",
    "\n",
    "# calculate point to point sum on two arrays:\n",
    "def calculate_numpy_arrays_p2p_sum():\n",
    "\t# create 2 Numpy Arrays\n",
    "\ta1=np.arange(SIZE)\n",
    "\ta2=np.arange(SIZE)\n",
    "\n",
    "    # calculate point to point sum:\n",
    "\tresult = a1 + a2\n",
    "\n",
    "\tprint(result[0:5])"
   ]
  },
  {
   "cell_type": "code",
   "execution_count": 11,
   "metadata": {},
   "outputs": [
    {
     "name": "stdout",
     "output_type": "stream",
     "text": [
      "Timing Lists Sum:\n",
      "[0, 2, 4, 6, 8]\n",
      "CPU times: user 451 ms, sys: 84.4 ms, total: 535 ms\n",
      "Wall time: 537 ms\n",
      "--------------------------------------------------\n",
      "Timing Arrays Sum:\n",
      "[0 2 4 6 8]\n",
      "CPU times: user 12.2 ms, sys: 4.07 ms, total: 16.3 ms\n",
      "Wall time: 16.3 ms\n"
     ]
    }
   ],
   "source": [
    "# Timing execution:\n",
    "print('Timing Lists Sum:')\n",
    "%time calculate_python_lists_p2p_sum()\n",
    "print('-'*50)\n",
    "print('Timing Arrays Sum:')\n",
    "%time calculate_numpy_arrays_p2p_sum()"
   ]
  },
  {
   "cell_type": "code",
   "execution_count": null,
   "metadata": {},
   "outputs": [],
   "source": []
  }
 ],
 "metadata": {
  "kernelspec": {
   "display_name": ".venv",
   "language": "python",
   "name": "python3"
  },
  "language_info": {
   "codemirror_mode": {
    "name": "ipython",
    "version": 3
   },
   "file_extension": ".py",
   "mimetype": "text/x-python",
   "name": "python",
   "nbconvert_exporter": "python",
   "pygments_lexer": "ipython3",
   "version": "3.12.0"
  }
 },
 "nbformat": 4,
 "nbformat_minor": 2
}
