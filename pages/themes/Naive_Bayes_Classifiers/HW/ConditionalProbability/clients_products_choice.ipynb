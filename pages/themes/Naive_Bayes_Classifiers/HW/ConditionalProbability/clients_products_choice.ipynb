{
 "cells": [
  {
   "attachments": {},
   "cell_type": "markdown",
   "metadata": {},
   "source": [
    "## Survay data\n",
    "\n",
    "Suppose a company sells two products - Product1 and Product2. The company is interested in studying whether the gender of the customer affects the choice of product. They survey a group of customers and find that:\n",
    "\n",
    "60% of the male customers choose Product1, 40% choose Product2.\n",
    "Among female customers, 30% choose Product1, while 70% choose Product2.\n",
    "\n",
    "We also asume that equal number of male and female customers were surveyed.\n",
    "\n",
    "### Formalize data:\n",
    "Above data can be summarized in next table:\n",
    "\n",
    "<table><thead><tr><th></th><th>Product1</th><th>Product2</th><th>Total</th></tr></thead><tbody><tr><td>Male Customers</td><td>60%</td><td>40%</td><td>50%</td></tr><tr><td>Female Customers</td><td>30%</td><td>70%</td><td>50%</td></tr><tr><td>Total</td><td>45%</td><td>55%</td><td>100%</td></tr></tbody></table>"
   ]
  },
  {
   "attachments": {},
   "cell_type": "markdown",
   "metadata": {},
   "source": [
    "## Task 1:\n",
    "\n",
    "Determine the probability that a customer is male, given that he/she have choosen Product1."
   ]
  },
  {
   "attachments": {},
   "cell_type": "markdown",
   "metadata": {},
   "source": [
    "### Solution - by hand\n",
    "\n",
    "Given:\n",
    "1. A - the event that the customer chooses Product1,\n",
    "1. B - the event that the customer is male.\n",
    "1. P(A) - the probability that a customer chooses Product1 = 45% (0.45)\n",
    "1. P(B) - the probability that a customer is male = 50% (0.5)\n",
    "1. P(A|B) - the probability that customer will choose Product1, given that he is male = 60% (0.6)\n",
    "1. P(B|A) - the probability that the customer is male given that they have chosen Product1 = ?\n",
    "\n",
    "Using the formula for conditional probability, we have:\n",
    "\n",
    "P(B|A) = P(A and B) / P(A)\n",
    "\n",
    "We know that P(A) = 0.45\n",
    "\n",
    "Using multiplication rule for dependent events:  P(A and B) = P(B) * P(A|B) = 0.5 * 0.6 = 0.3\n",
    "\n",
    "Now, we can use the formula for conditional probability to find P(B|A):\n",
    "\n",
    "P(B|A) = P(A and B) / P(A) = 0.3 / 0.45 =~ 0.67.\n",
    "\n",
    "Therefore, the probability that a customer who chooses Product1 is male is approximately 0.67."
   ]
  },
  {
   "attachments": {},
   "cell_type": "markdown",
   "metadata": {},
   "source": [
    "### Solution - Python"
   ]
  },
  {
   "cell_type": "code",
   "execution_count": 1,
   "metadata": {},
   "outputs": [
    {
     "name": "stdout",
     "output_type": "stream",
     "text": [
      "Probability that a customer who chooses Product1 is male is 0.67\n"
     ]
    }
   ],
   "source": [
    "p_a = 0.45\n",
    "p_b = 0.5\n",
    "p_a_b = 0.6\n",
    "\n",
    "p_a_and_b = p_b * p_a_b\n",
    "p_b_a = p_a_and_b/p_a\n",
    "\n",
    "print(f'Probability that a customer who chooses Product1 is male is {round(p_b_a, 2)}')"
   ]
  }
 ],
 "metadata": {
  "kernelspec": {
   "display_name": ".venv",
   "language": "python",
   "name": "python3"
  },
  "language_info": {
   "codemirror_mode": {
    "name": "ipython",
    "version": 3
   },
   "file_extension": ".py",
   "mimetype": "text/x-python",
   "name": "python",
   "nbconvert_exporter": "python",
   "pygments_lexer": "ipython3",
   "version": "3.9.12"
  },
  "orig_nbformat": 4,
  "vscode": {
   "interpreter": {
    "hash": "80d53e83da47a8dbd3f05a73e91e3e7dbf0e420a2da730c28d0eaee714054d51"
   }
  }
 },
 "nbformat": 4,
 "nbformat_minor": 2
}
