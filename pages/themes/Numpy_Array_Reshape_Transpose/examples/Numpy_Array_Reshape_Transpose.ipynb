{
 "cells": [
  {
   "cell_type": "code",
   "execution_count": 1,
   "metadata": {},
   "outputs": [],
   "source": [
    "import numpy as np"
   ]
  },
  {
   "cell_type": "markdown",
   "metadata": {},
   "source": [
    "# Numpy Arrays: Reshape and Transpose"
   ]
  },
  {
   "cell_type": "markdown",
   "metadata": {},
   "source": [
    "## Reshape\n",
    "\n",
    "Remember that **shape of an array** is the number of elements in each dimension.\n",
    "\n",
    "NumPy array reshape() method is used to change the shape of the NumPy array without changing its data. Reshaping allows us to add or remove dimensions in an array."
   ]
  },
  {
   "cell_type": "markdown",
   "metadata": {},
   "source": [
    "### Basic Syntax\n",
    "\n",
    "`numpy.reshape(a, newshape, order='C')`\n",
    "\n",
    "or:\n",
    "\n",
    "`ndarray.reshape(newshape, order='C')`\t\t\n",
    "\n",
    "Where:\n",
    "- newshape can be an integer or tupple. \n",
    "  - If it is an integer, then the result will be a 1-D array of that length.\n",
    "  - If it is a tupple, then the result will be an array with the given shape. \n",
    "\tNote that the new shape should be compatible with the original shape. I.e. \n",
    "\twe can not reshape an array with shape (9, ) to new shape (2,5) as \n",
    "\tthe number of elements will not be the same.\n",
    "- order:\n",
    "  - if order='C': convert array along the row \n",
    "  - if order='F': convert array along the column \n",
    "\n",
    "Return Value:\n",
    "\n",
    "reshape() returns a new array without changing the original one.\n",
    "\n",
    "Reference: [numpy.reshape](https://numpy.org/doc/stable/reference/generated/numpy.reshape.html)"
   ]
  },
  {
   "cell_type": "markdown",
   "metadata": {},
   "source": [
    "### Examples"
   ]
  },
  {
   "cell_type": "code",
   "execution_count": 2,
   "metadata": {},
   "outputs": [
    {
     "name": "stdout",
     "output_type": "stream",
     "text": [
      "[0 1 2 3 4 5]\n"
     ]
    },
    {
     "data": {
      "text/plain": [
       "array([[0, 1, 2],\n",
       "       [3, 4, 5]])"
      ]
     },
     "execution_count": 2,
     "metadata": {},
     "output_type": "execute_result"
    }
   ],
   "source": [
    "###  Convert an array from 1-D to 2-D:\n",
    "arr = np.arange(6)\n",
    "print(arr)\n",
    "\n",
    "arr.reshape(2,3)"
   ]
  },
  {
   "cell_type": "code",
   "execution_count": 3,
   "metadata": {},
   "outputs": [
    {
     "name": "stdout",
     "output_type": "stream",
     "text": [
      "[ 0  1  2  3  4  5  6  7  8  9 10 11 12 13 14 15 16 17 18 19 20 21 22 23]\n"
     ]
    },
    {
     "data": {
      "text/plain": [
       "array([[[ 0,  1,  2,  3],\n",
       "        [ 4,  5,  6,  7],\n",
       "        [ 8,  9, 10, 11]],\n",
       "\n",
       "       [[12, 13, 14, 15],\n",
       "        [16, 17, 18, 19],\n",
       "        [20, 21, 22, 23]]])"
      ]
     },
     "execution_count": 3,
     "metadata": {},
     "output_type": "execute_result"
    }
   ],
   "source": [
    "### Convert an array from 1-D to 3-D:\n",
    "arr = np.arange(2*3*4)\n",
    "print(arr)\n",
    "\n",
    "arr.reshape((2,3,4))"
   ]
  },
  {
   "cell_type": "code",
   "execution_count": 4,
   "metadata": {},
   "outputs": [
    {
     "name": "stdout",
     "output_type": "stream",
     "text": [
      "[[0 1 2]\n",
      " [3 4 5]]\n"
     ]
    },
    {
     "data": {
      "text/plain": [
       "array([[0, 1],\n",
       "       [2, 3],\n",
       "       [4, 5]])"
      ]
     },
     "execution_count": 4,
     "metadata": {},
     "output_type": "execute_result"
    }
   ],
   "source": [
    "### Change dimensions \n",
    "# note, that this is not the same as array transpose(), which we'll discuss firther.\n",
    "\n",
    "arr = np.arange(6).reshape(2,3)\n",
    "print(arr)\n",
    "\n",
    "arr.reshape(3,2)"
   ]
  },
  {
   "cell_type": "code",
   "execution_count": 5,
   "metadata": {},
   "outputs": [
    {
     "name": "stdout",
     "output_type": "stream",
     "text": [
      "[0 1 2 3 4 5]\n"
     ]
    },
    {
     "data": {
      "text/plain": [
       "array([[0, 1],\n",
       "       [2, 3],\n",
       "       [4, 5]])"
      ]
     },
     "execution_count": 5,
     "metadata": {},
     "output_type": "execute_result"
    }
   ],
   "source": [
    "### When -1 is used in the dimension, the value is inferred from the length of the array and remaining dimensions.\n",
    "\n",
    "arr = np.arange(6)\n",
    "print(arr)\n",
    "\n",
    "arr.reshape((3,-1))"
   ]
  },
  {
   "cell_type": "code",
   "execution_count": 6,
   "metadata": {},
   "outputs": [
    {
     "name": "stdout",
     "output_type": "stream",
     "text": [
      "[0 1 2 3 4 5]\n"
     ]
    },
    {
     "data": {
      "text/plain": [
       "array([[0, 2, 4],\n",
       "       [1, 3, 5]])"
      ]
     },
     "execution_count": 6,
     "metadata": {},
     "output_type": "execute_result"
    }
   ],
   "source": [
    "### Reshape 1-D to 2-D Array along Column wise with order ‘F’\n",
    "\n",
    "arr = np.arange(6)\n",
    "print(arr)\n",
    "\n",
    "arr.reshape(2,3, order='F')"
   ]
  },
  {
   "cell_type": "code",
   "execution_count": 7,
   "metadata": {},
   "outputs": [
    {
     "name": "stdout",
     "output_type": "stream",
     "text": [
      "[[1. 1. 1.]\n",
      " [1. 1. 1.]]\n"
     ]
    },
    {
     "data": {
      "text/plain": [
       "array([1., 1., 1., 1., 1., 1.])"
      ]
     },
     "execution_count": 7,
     "metadata": {},
     "output_type": "execute_result"
    }
   ],
   "source": [
    "### Reshape 2-D array to 1-D:\n",
    "arr = np.ones((2,3))\n",
    "print(arr)\n",
    "\n",
    "arr.reshape(6)\n",
    "\n",
    "# equivalent as above\n",
    "# arr.reshape((6,))\n"
   ]
  },
  {
   "cell_type": "markdown",
   "metadata": {},
   "source": [
    "## Ravel\n",
    "\n",
    "NumPy array ravel() method is used to flattened an array."
   ]
  },
  {
   "cell_type": "markdown",
   "metadata": {},
   "source": [
    "### Basic Syntax\n",
    "\n",
    "`numpy.ravel(a, order='C')`\n",
    "\n",
    "or \n",
    "\n",
    "`ndarray.ravel([order])`\n",
    "\n",
    "if order='C' flaten by rows\n",
    "\n",
    "if order='F' flaten by columns\n"
   ]
  },
  {
   "cell_type": "markdown",
   "metadata": {},
   "source": [
    "### Examples"
   ]
  },
  {
   "cell_type": "code",
   "execution_count": 8,
   "metadata": {},
   "outputs": [
    {
     "name": "stdout",
     "output_type": "stream",
     "text": [
      "[[0 1 2]\n",
      " [3 4 5]]\n"
     ]
    },
    {
     "data": {
      "text/plain": [
       "array([0, 1, 2, 3, 4, 5])"
      ]
     },
     "execution_count": 8,
     "metadata": {},
     "output_type": "execute_result"
    }
   ],
   "source": [
    "# Ravel 2-D to 1-D array by rows:\n",
    "\n",
    "a2d = np.arange(6).reshape(2,3)\n",
    "print(a2d)\n",
    "\n",
    "a2d.ravel()"
   ]
  },
  {
   "cell_type": "code",
   "execution_count": 9,
   "metadata": {},
   "outputs": [
    {
     "name": "stdout",
     "output_type": "stream",
     "text": [
      "[[0 1 2]\n",
      " [3 4 5]]\n"
     ]
    },
    {
     "data": {
      "text/plain": [
       "array([0, 3, 1, 4, 2, 5])"
      ]
     },
     "execution_count": 9,
     "metadata": {},
     "output_type": "execute_result"
    }
   ],
   "source": [
    "# Ravel 2-D to 1-D array by columns:\n",
    "\n",
    "a2d = np.arange(6).reshape(2,3)\n",
    "print(a2d)\n",
    "\n",
    "a2d.ravel(order='F')"
   ]
  },
  {
   "cell_type": "markdown",
   "metadata": {},
   "source": [
    "## Transpose\n",
    "\n",
    "Numpy allows us to transpose any array, as in Matrix Transposition.\n",
    "\n",
    "In linear algebra, the transpose of a matrix is an operator which flips a matrix over its diagonal. That is, it switches the row and column indices of the matrix $A$ by producing another matrix, often denoted by $A^T$\n",
    "\n",
    "<img src=\"../images/MatrixTransposition.webp\" alt=\"Matrix Transposition\">\n",
    "\n",
    "With `transpose()` method we can reverse or permute the axes of an array, making any kind of transpositions."
   ]
  },
  {
   "cell_type": "markdown",
   "metadata": {},
   "source": [
    "### Basic Syntax\n",
    "\n",
    "`numpy.transpose(a, axes=None)`\n",
    "\n",
    "or\n",
    "\n",
    "`ndarray.transpose(*axes)`\n",
    "\n",
    "*Parameters*:\n",
    "**axes**: None, tuple of ints, or n ints\n",
    "\n",
    "- None or no argument: reverses the order of the axes.\n",
    "\n",
    "- tuple of ints: i in the j-th place in the tuple means a’s i-th axis becomes a.transpose()’s j-th axis.\n",
    "\n",
    "- n ints: same as an n-tuple of the same ints (this form is intended simply as a “convenience” alternative to the tuple form)\n",
    "\n",
    "*Returns*: a view of array, without changing it.\n",
    "\n",
    "**For a 1-D array this has no effect, as a transposed vector is simply the same vector**\n",
    "\n",
    "Reference: https://numpy.org/doc/stable/reference/generated/numpy.ndarray.transpose.html#numpy.ndarray.transpose\n",
    "\n",
    "\n",
    "Note that for ndarray.transpose(), without arguments, we can use the shortcut object ndarray.T\n",
    "which do the same.\n"
   ]
  },
  {
   "cell_type": "markdown",
   "metadata": {},
   "source": [
    "### Examples"
   ]
  },
  {
   "cell_type": "code",
   "execution_count": 10,
   "metadata": {},
   "outputs": [
    {
     "name": "stdout",
     "output_type": "stream",
     "text": [
      "[0 1 2 3 4 5]\n"
     ]
    },
    {
     "data": {
      "text/plain": [
       "array([0, 1, 2, 3, 4, 5])"
      ]
     },
     "execution_count": 10,
     "metadata": {},
     "output_type": "execute_result"
    }
   ],
   "source": [
    "### no effect on 1D (Vector) array:\n",
    "arr = np.arange(6)\n",
    "print(arr)\n",
    "\n",
    "arr.transpose()"
   ]
  },
  {
   "cell_type": "markdown",
   "metadata": {},
   "source": [
    "2D (Matrix) transpose - no arguments\n",
    "\n",
    "<img src=\"../images/numpy_transpose_function.png\">"
   ]
  },
  {
   "cell_type": "code",
   "execution_count": 11,
   "metadata": {},
   "outputs": [
    {
     "name": "stdout",
     "output_type": "stream",
     "text": [
      "[[0 1]\n",
      " [2 3]\n",
      " [4 5]]\n"
     ]
    },
    {
     "data": {
      "text/plain": [
       "array([[0, 2, 4],\n",
       "       [1, 3, 5]])"
      ]
     },
     "execution_count": 11,
     "metadata": {},
     "output_type": "execute_result"
    }
   ],
   "source": [
    "### 2D (Matrix) transpose - no arguments\n",
    "arr = np.arange(6).reshape(3,2)\n",
    "print(arr)\n",
    "\n",
    "arr.transpose()"
   ]
  },
  {
   "cell_type": "code",
   "execution_count": 12,
   "metadata": {},
   "outputs": [
    {
     "name": "stdout",
     "output_type": "stream",
     "text": [
      "[[0 1]\n",
      " [2 3]\n",
      " [4 5]]\n"
     ]
    },
    {
     "data": {
      "text/plain": [
       "array([[0, 2, 4],\n",
       "       [1, 3, 5]])"
      ]
     },
     "execution_count": 12,
     "metadata": {},
     "output_type": "execute_result"
    }
   ],
   "source": [
    "### 2D (Matrix) transpose - with T object:\n",
    "\n",
    "arr = np.arange(6).reshape(3,2)\n",
    "print(arr)\n",
    "\n",
    "arr.T"
   ]
  },
  {
   "cell_type": "code",
   "execution_count": 13,
   "metadata": {},
   "outputs": [
    {
     "name": "stdout",
     "output_type": "stream",
     "text": [
      "[[[ 0  1  2  3]\n",
      "  [ 4  5  6  7]\n",
      "  [ 8  9 10 11]]\n",
      "\n",
      " [[12 13 14 15]\n",
      "  [16 17 18 19]\n",
      "  [20 21 22 23]]]\n"
     ]
    },
    {
     "data": {
      "text/plain": [
       "array([[[ 0,  4,  8],\n",
       "        [ 1,  5,  9],\n",
       "        [ 2,  6, 10],\n",
       "        [ 3,  7, 11]],\n",
       "\n",
       "       [[12, 16, 20],\n",
       "        [13, 17, 21],\n",
       "        [14, 18, 22],\n",
       "        [15, 19, 23]]])"
      ]
     },
     "execution_count": 13,
     "metadata": {},
     "output_type": "execute_result"
    }
   ],
   "source": [
    "### Change position of axes with tuple as argument:\n",
    "arr = np.arange(24).reshape(2,3,4)\n",
    "print(arr)\n",
    "\n",
    "arr.transpose((0,2,1))"
   ]
  }
 ],
 "metadata": {
  "kernelspec": {
   "display_name": "Python 3.9.12 ('.venv': venv)",
   "language": "python",
   "name": "python3"
  },
  "language_info": {
   "codemirror_mode": {
    "name": "ipython",
    "version": 3
   },
   "file_extension": ".py",
   "mimetype": "text/x-python",
   "name": "python",
   "nbconvert_exporter": "python",
   "pygments_lexer": "ipython3",
   "version": "3.9.12"
  },
  "orig_nbformat": 4,
  "vscode": {
   "interpreter": {
    "hash": "5a62e84bb33d97b2ebe9e05db7b4ecaf9cd6e6588d04ba7af3ee1bdaa3f1036b"
   }
  }
 },
 "nbformat": 4,
 "nbformat_minor": 2
}
