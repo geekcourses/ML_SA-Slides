{
 "cells": [
  {
   "attachments": {},
   "cell_type": "markdown",
   "metadata": {},
   "source": [
    "# Calculating the probability for a person to have Covid-19, given that the test is positive using Bayes' Theorem"
   ]
  },
  {
   "attachments": {},
   "cell_type": "markdown",
   "metadata": {},
   "source": [
    "## Define the problem\n",
    "\n",
    "Let have a Covid-19 test that can classify Covid-19 and non-Covid-19 patients.\n",
    "\n",
    "The test is 99% sensitive and 99% specific. I.e. the test will correctly identify a Covid-19 positive patients (True Positive) 99% of the time, and will correctly identify a non-Covid-19 (True Negative) 99% of the time.\n",
    "\n",
    "A statistical data about Covid-19 positive persons are colected, showing that 0.5% of population are positive.\n",
    "\n",
    "**Question: What is the probability that a person is actually having Covid-19, given that the test is positive ?**"
   ]
  },
  {
   "attachments": {},
   "cell_type": "markdown",
   "metadata": {},
   "source": [
    "## Solution with Bayes' Theorem\n",
    "\n",
    "\n",
    "$P(C|+) = {\\frac {P(+|C) * P(C)}{P(+)}}$\n",
    "\n",
    "where:\n",
    "\n",
    "$P(C|+)$ - the probability that a person is having Covid-19, given that the test is positive.\n",
    "\n",
    "$P(C)$ - the prior probability of a person to have a Covid-19. From statistics we have P(C) = 0.5% = 0,005\n",
    "\n",
    "$P(+)$ - the probability of a Positive test result, regardless of other information.I.e. the probability that a True Positive result will appear (= 0.99 * 0.005) plus the probability that a False Positive will appear (= 0.01 * 0.995). \n",
    "\n",
    "=> $P(+)$ = (0.99 * 0.005) + (0.01 * 0.995) = 0.0149\n",
    "\n",
    "$P(+|C)$ - the probability that a test is positive, given that the person is having Covid-19. $P(+|C)$ = 0.99 (as the test is 99% sensitive)\n",
    "\n",
    "=> $P(C|+)$ = (0.99 * 0.005) / 0.0149 = 0,3322\n",
    "\n",
    "\n",
    "Answer: the probability of a person to have a Covid-19, given that a Covid-19 test is positive, is 33.22%\n",
    "\n",
    "\n"
   ]
  }
 ],
 "metadata": {
  "kernelspec": {
   "display_name": ".venv",
   "language": "python",
   "name": "python3"
  },
  "language_info": {
   "name": "python",
   "version": "3.9.12"
  },
  "orig_nbformat": 4,
  "vscode": {
   "interpreter": {
    "hash": "80d53e83da47a8dbd3f05a73e91e3e7dbf0e420a2da730c28d0eaee714054d51"
   }
  }
 },
 "nbformat": 4,
 "nbformat_minor": 2
}
