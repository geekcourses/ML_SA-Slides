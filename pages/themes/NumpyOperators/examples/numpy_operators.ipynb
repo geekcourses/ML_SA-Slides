{
 "cells": [
  {
   "cell_type": "code",
   "execution_count": 1,
   "metadata": {},
   "outputs": [],
   "source": [
    "import numpy as np"
   ]
  },
  {
   "cell_type": "markdown",
   "metadata": {},
   "source": [
    "# Numpy Operations"
   ]
  },
  {
   "cell_type": "markdown",
   "metadata": {},
   "source": [
    "## Arithmetic operations\n",
    "\n",
    "Arithmetic operations on ndarrays are **element-wise** (point-to-point).\n",
    "\n",
    "Note, that beside [Arithmetic functions](https://numpy.org/doc/stable/reference/routines.math.html#arithmetic-operations), numpy sumply a great variaty of [Mathematical functions](https://numpy.org/doc/stable/reference/routines.math.html)\n",
    "\n",
    "Lets have next 2 arrays:"
   ]
  },
  {
   "cell_type": "code",
   "execution_count": 2,
   "metadata": {},
   "outputs": [
    {
     "name": "stdout",
     "output_type": "stream",
     "text": [
      "arr1: [0 1 2 3 4], int64\n"
     ]
    }
   ],
   "source": [
    "arr1 = np.arange(5)\n",
    "print(f'arr1: {arr1}, {arr1.dtype}')\n"
   ]
  },
  {
   "cell_type": "code",
   "execution_count": 3,
   "metadata": {},
   "outputs": [
    {
     "name": "stdout",
     "output_type": "stream",
     "text": [
      "arr2: [2 2 2 2 2], int64\n"
     ]
    }
   ],
   "source": [
    "arr2 = np.full(5,2)\n",
    "print(f'arr2: {arr2}, {arr2.dtype}')"
   ]
  },
  {
   "cell_type": "markdown",
   "metadata": {},
   "source": [
    "### Addition\n",
    "\n",
    "We can use the '+' operator as a shortcut to np.add()"
   ]
  },
  {
   "cell_type": "code",
   "execution_count": 4,
   "metadata": {},
   "outputs": [
    {
     "name": "stdout",
     "output_type": "stream",
     "text": [
      "arr1: [0 1 2 3 4]\n"
     ]
    },
    {
     "data": {
      "text/plain": [
       "array([1, 2, 3, 4, 5])"
      ]
     },
     "execution_count": 4,
     "metadata": {},
     "output_type": "execute_result"
    }
   ],
   "source": [
    "# add array with constant:\n",
    "print(f'arr1: {arr1}')\n",
    "arr1+1"
   ]
  },
  {
   "cell_type": "code",
   "execution_count": 5,
   "metadata": {},
   "outputs": [
    {
     "name": "stdout",
     "output_type": "stream",
     "text": [
      "arr1: [0 1 2 3 4]\n",
      "arr2: [2 2 2 2 2]\n"
     ]
    },
    {
     "data": {
      "text/plain": [
       "array([2, 3, 4, 5, 6])"
      ]
     },
     "execution_count": 5,
     "metadata": {},
     "output_type": "execute_result"
    }
   ],
   "source": [
    "# add two arrays\n",
    "print(f'arr1: {arr1}')\n",
    "print(f'arr2: {arr2}')\n",
    "arr1 + arr2"
   ]
  },
  {
   "cell_type": "markdown",
   "metadata": {},
   "source": [
    "### Subtraction\n",
    "\n",
    "We can use the '-' operator as a shortcut to np.subtract()"
   ]
  },
  {
   "cell_type": "code",
   "execution_count": 6,
   "metadata": {},
   "outputs": [
    {
     "name": "stdout",
     "output_type": "stream",
     "text": [
      "arr1: [0 1 2 3 4]\n"
     ]
    },
    {
     "data": {
      "text/plain": [
       "array([-1,  0,  1,  2,  3])"
      ]
     },
     "execution_count": 6,
     "metadata": {},
     "output_type": "execute_result"
    }
   ],
   "source": [
    "# subtract array with constant:\n",
    "print(f'arr1: {arr1}')\n",
    "arr1-1"
   ]
  },
  {
   "cell_type": "code",
   "execution_count": 7,
   "metadata": {},
   "outputs": [
    {
     "name": "stdout",
     "output_type": "stream",
     "text": [
      "arr1: [0 1 2 3 4]\n",
      "arr2: [2 2 2 2 2]\n"
     ]
    },
    {
     "data": {
      "text/plain": [
       "array([-2, -1,  0,  1,  2])"
      ]
     },
     "execution_count": 7,
     "metadata": {},
     "output_type": "execute_result"
    }
   ],
   "source": [
    "# subtract two arrays\n",
    "print(f'arr1: {arr1}')\n",
    "print(f'arr2: {arr2}')\n",
    "arr1 - arr2"
   ]
  },
  {
   "cell_type": "markdown",
   "metadata": {},
   "source": [
    "### Multiplication\n",
    "\n",
    "We can use the '*' operator as a shortcut to np.multiply()"
   ]
  },
  {
   "cell_type": "code",
   "execution_count": 8,
   "metadata": {},
   "outputs": [
    {
     "name": "stdout",
     "output_type": "stream",
     "text": [
      "arr1: [0 1 2 3 4]\n"
     ]
    },
    {
     "data": {
      "text/plain": [
       "array([ 0,  3,  6,  9, 12])"
      ]
     },
     "execution_count": 8,
     "metadata": {},
     "output_type": "execute_result"
    }
   ],
   "source": [
    "# multiply array with constant:\n",
    "print(f'arr1: {arr1}')\n",
    "arr1*3"
   ]
  },
  {
   "cell_type": "code",
   "execution_count": 9,
   "metadata": {},
   "outputs": [
    {
     "name": "stdout",
     "output_type": "stream",
     "text": [
      "arr1: [0 1 2 3 4]\n",
      "arr2: [2 2 2 2 2]\n"
     ]
    },
    {
     "data": {
      "text/plain": [
       "array([0, 2, 4, 6, 8])"
      ]
     },
     "execution_count": 9,
     "metadata": {},
     "output_type": "execute_result"
    }
   ],
   "source": [
    "# multiply two arrays\n",
    "print(f'arr1: {arr1}')\n",
    "print(f'arr2: {arr2}')\n",
    "arr1 * arr2"
   ]
  },
  {
   "cell_type": "markdown",
   "metadata": {},
   "source": [
    "### Division\n",
    "\n",
    "We can use the '/' operator as a shortcut to np.divide()"
   ]
  },
  {
   "cell_type": "code",
   "execution_count": 10,
   "metadata": {},
   "outputs": [
    {
     "name": "stdout",
     "output_type": "stream",
     "text": [
      "arr1: [0 1 2 3 4]\n"
     ]
    },
    {
     "data": {
      "text/plain": [
       "array([0.        , 0.33333333, 0.66666667, 1.        , 1.33333333])"
      ]
     },
     "execution_count": 10,
     "metadata": {},
     "output_type": "execute_result"
    }
   ],
   "source": [
    "# divide array with constant:\n",
    "print(f'arr1: {arr1}')\n",
    "arr1/3"
   ]
  },
  {
   "cell_type": "code",
   "execution_count": 11,
   "metadata": {},
   "outputs": [
    {
     "name": "stdout",
     "output_type": "stream",
     "text": [
      "arr1: [0 1 2 3 4]\n",
      "arr2: [2 2 2 2 2]\n"
     ]
    },
    {
     "data": {
      "text/plain": [
       "array([0. , 0.5, 1. , 1.5, 2. ])"
      ]
     },
     "execution_count": 11,
     "metadata": {},
     "output_type": "execute_result"
    }
   ],
   "source": [
    "# divide two arrays\n",
    "print(f'arr1: {arr1}')\n",
    "print(f'arr2: {arr2}')\n",
    "arr1 / arr2"
   ]
  },
  {
   "cell_type": "markdown",
   "metadata": {},
   "source": [
    "## Comparison and Logic Operations"
   ]
  },
  {
   "cell_type": "markdown",
   "metadata": {},
   "source": [
    "### Arrays Comparison\n",
    "\n",
    "Comparison Operations on ndarrays are **element-wise** (point-to-point).\n",
    "\n",
    "They return an array of same shape with Boolean values.\n",
    "\n",
    "Reference: [Comparison functions](https://numpy.org/doc/stable/reference/routines.logic.html#comparison)"
   ]
  },
  {
   "cell_type": "code",
   "execution_count": 12,
   "metadata": {},
   "outputs": [
    {
     "name": "stdout",
     "output_type": "stream",
     "text": [
      "[0 1 2 3 4]\n",
      "[False  True False False False]\n"
     ]
    }
   ],
   "source": [
    "### Equal (==) or np.equal() with constant\n",
    "print(arr1)\n",
    "print(arr1 == 1)\n",
    "# print(np.equal(arr1,1))"
   ]
  },
  {
   "cell_type": "code",
   "execution_count": 13,
   "metadata": {},
   "outputs": [
    {
     "name": "stdout",
     "output_type": "stream",
     "text": [
      "[0 1 2 3 4]\n",
      "[2 2 2 2 2]\n",
      "[False False  True False False]\n"
     ]
    }
   ],
   "source": [
    "### Equal (==) or np.equal() with another array\n",
    "print(arr1)\n",
    "print(arr2)\n",
    "print(arr1 == arr2)\n",
    "# print(np.equal(arr1,arr2))"
   ]
  },
  {
   "cell_type": "code",
   "execution_count": 14,
   "metadata": {},
   "outputs": [
    {
     "name": "stdout",
     "output_type": "stream",
     "text": [
      "[0 1 2 3 4]\n",
      "[ True False  True  True  True]\n"
     ]
    }
   ],
   "source": [
    "### Not equal (!=) or np.not_equal() with constant\n",
    "print(arr1)\n",
    "print(arr1 != 1)\n",
    "# print(np.not_equal(arr1,1))"
   ]
  },
  {
   "cell_type": "code",
   "execution_count": 15,
   "metadata": {},
   "outputs": [
    {
     "name": "stdout",
     "output_type": "stream",
     "text": [
      "[0 1 2 3 4]\n",
      "[2 2 2 2 2]\n",
      "[ True  True False  True  True]\n"
     ]
    }
   ],
   "source": [
    "### Not equal (!=) or np.not_equal() with another array\n",
    "print(arr1)\n",
    "print(arr2)\n",
    "print(arr1 != arr2)\n",
    "# print(np.not_equal(arr1,arr2))"
   ]
  },
  {
   "cell_type": "code",
   "execution_count": 16,
   "metadata": {},
   "outputs": [
    {
     "name": "stdout",
     "output_type": "stream",
     "text": [
      "[0 1 2 3 4]\n",
      "[False False  True  True  True]\n"
     ]
    }
   ],
   "source": [
    "### Greater (>) or np.greater() with constant\n",
    "print(arr1)\n",
    "print(arr1 > 1)\n",
    "# print(np.greater(arr1,1))"
   ]
  },
  {
   "cell_type": "code",
   "execution_count": 17,
   "metadata": {},
   "outputs": [
    {
     "name": "stdout",
     "output_type": "stream",
     "text": [
      "[0 1 2 3 4]\n",
      "[2 2 2 2 2]\n",
      "[False False  True  True  True]\n"
     ]
    }
   ],
   "source": [
    "### Greater or equal (>=) or np.greater_equal() with another array\n",
    "print(arr1)\n",
    "print(arr2)\n",
    "print(arr1 >= arr2)\n",
    "# print(np.greater_equal(arr1,arr2))"
   ]
  },
  {
   "cell_type": "code",
   "execution_count": 18,
   "metadata": {},
   "outputs": [
    {
     "name": "stdout",
     "output_type": "stream",
     "text": [
      "[0 1 2 3 4]\n",
      "[ True False False False False]\n"
     ]
    }
   ],
   "source": [
    "### Less (<) or np.less() with constant\n",
    "print(arr1)\n",
    "print(arr1 < 1)\n",
    "# print(np.less(arr1,1))"
   ]
  },
  {
   "cell_type": "code",
   "execution_count": 19,
   "metadata": {},
   "outputs": [
    {
     "name": "stdout",
     "output_type": "stream",
     "text": [
      "[0 1 2 3 4]\n",
      "[2 2 2 2 2]\n",
      "[ True  True  True False False]\n"
     ]
    }
   ],
   "source": [
    "### Less or equal (<=) or np.less_equal() with another array\n",
    "print(arr1)\n",
    "print(arr2)\n",
    "print(arr1 <= arr2)\n",
    "# print(np.less_equal(arr1,arr2))"
   ]
  },
  {
   "cell_type": "markdown",
   "metadata": {},
   "source": [
    "### Logical operations\n",
    "\n",
    "Logical operations on ndarrays are **element-wise** (point-to-point).\n",
    "\n",
    "They return an array of same shape with Boolean values.\n",
    "\n",
    "Logical operations are [commutative](https://en.wikipedia.org/wiki/Commutative_property)\n",
    "\n",
    "Reference: [Logical operations](https://numpy.org/doc/stable/reference/routines.logic.html#logical-operations)"
   ]
  },
  {
   "cell_type": "markdown",
   "metadata": {},
   "source": [
    "#### Logical AND\n",
    "\n",
    "<img src=\"../images/logical_and.png\">\n",
    "\n",
    "[np.logical_and()](https://numpy.org/doc/stable/reference/generated/numpy.logical_and.html#numpy-logical-and) - Compute the truth value of x1 AND x2 element-wise.\n",
    "\n",
    "The & operator can be used as a shorthand for np.logical_and() **only on boolean values/ndarrays**."
   ]
  },
  {
   "cell_type": "code",
   "execution_count": 20,
   "metadata": {},
   "outputs": [
    {
     "data": {
      "text/plain": [
       "False"
      ]
     },
     "execution_count": 20,
     "metadata": {},
     "output_type": "execute_result"
    }
   ],
   "source": [
    "# logical and between 2 booleans:\n",
    "True & False\n",
    "# np.logical_and(True, False)"
   ]
  },
  {
   "cell_type": "code",
   "execution_count": 21,
   "metadata": {},
   "outputs": [
    {
     "name": "stdout",
     "output_type": "stream",
     "text": [
      "arr1: [0 1 2 3 4]\n",
      "arr2: [2 2 2 2 2] \n",
      "\n",
      "x: [False False False  True  True]\n",
      "y: [ True  True  True  True  True] \n",
      "\n",
      "x&y: [False False False  True  True]\n"
     ]
    }
   ],
   "source": [
    "# logical and between 2 boolean arrays:\n",
    "print(f'arr1: {arr1}')\n",
    "print(f'arr2: {arr2}','\\n')\n",
    "\n",
    "x = arr1>2\n",
    "y = arr2>1\n",
    "print(f'x: {x}')\n",
    "print(f'y: {y}','\\n')\n",
    "\n",
    "print(f'x&y: {x&y}')\n",
    "# print(np.logical_and(x,y))\n"
   ]
  },
  {
   "cell_type": "code",
   "execution_count": 22,
   "metadata": {},
   "outputs": [
    {
     "name": "stdout",
     "output_type": "stream",
     "text": [
      "True\n",
      "False\n"
     ]
    }
   ],
   "source": [
    "# logical and between 2 scalars:\n",
    "# note that a value=0 is interpreted as False,\n",
    "# and a value != 0 is interpreted as True \n",
    "\n",
    "print(np.logical_and(1, -92349))\n",
    "print(np.logical_and(1, 0))"
   ]
  },
  {
   "cell_type": "markdown",
   "metadata": {},
   "source": [
    "#### Logical OR\n",
    "\n",
    "<img src=\"../images/logical_or.png\">\n",
    "\n",
    "[np.logical_or()](https://numpy.org/doc/stable/reference/generated/numpy.logical_or.html#numpy-logical-or) - Compute the truth value of x1 OR x2 element-wise.\n",
    "\n",
    "The | operator can be used as a shorthand for np.logical_or() **only on boolean values/ndarrays**."
   ]
  },
  {
   "cell_type": "code",
   "execution_count": 23,
   "metadata": {},
   "outputs": [
    {
     "data": {
      "text/plain": [
       "True"
      ]
     },
     "execution_count": 23,
     "metadata": {},
     "output_type": "execute_result"
    }
   ],
   "source": [
    "# logical or between 2 booleans:\n",
    "True | False\n",
    "# np.logical_or(True, False)"
   ]
  },
  {
   "cell_type": "code",
   "execution_count": 24,
   "metadata": {},
   "outputs": [
    {
     "name": "stdout",
     "output_type": "stream",
     "text": [
      "arr1: [0 1 2 3 4]\n",
      "arr2: [2 2 2 2 2] \n",
      "\n",
      "x: [False False False  True  True]\n",
      "y: [ True  True  True  True  True] \n",
      "\n",
      "x|y: [ True  True  True  True  True]\n"
     ]
    }
   ],
   "source": [
    "# logical or between 2 boolean arrays:\n",
    "print(f'arr1: {arr1}')\n",
    "print(f'arr2: {arr2}','\\n')\n",
    "\n",
    "x = arr1>2\n",
    "y = arr2>1\n",
    "print(f'x: {x}')\n",
    "print(f'y: {y}','\\n')\n",
    "\n",
    "print(f'x|y: {x|y}')\n",
    "# print(np.logical_or(x,y))\n"
   ]
  },
  {
   "cell_type": "code",
   "execution_count": 25,
   "metadata": {},
   "outputs": [
    {
     "name": "stdout",
     "output_type": "stream",
     "text": [
      "True\n",
      "True\n",
      "False\n"
     ]
    }
   ],
   "source": [
    "# logical or between 2 scalars:\n",
    "print(np.logical_or(1, -92349))\n",
    "print(np.logical_or(1, 0))\n",
    "print(np.logical_or(0, 0))"
   ]
  },
  {
   "cell_type": "markdown",
   "metadata": {},
   "source": [
    "#### Logical NOT\n",
    "\n",
    "<img src=\"../images/logical_not.png\">\n",
    "\n",
    "[np.logical_not()](https://numpy.org/doc/stable/reference/generated/numpy.logical_not.html#numpy-logical-not) - Compute the truth value of NOT x element-wise."
   ]
  },
  {
   "cell_type": "code",
   "execution_count": 26,
   "metadata": {},
   "outputs": [
    {
     "data": {
      "text/plain": [
       "False"
      ]
     },
     "execution_count": 26,
     "metadata": {},
     "output_type": "execute_result"
    }
   ],
   "source": [
    "# logical not on one boolean:\n",
    "np.logical_not(True)"
   ]
  },
  {
   "cell_type": "code",
   "execution_count": 27,
   "metadata": {},
   "outputs": [
    {
     "name": "stdout",
     "output_type": "stream",
     "text": [
      "arr1: [0 1 2 3 4]\n",
      "x: [False False False  True  True]\n",
      "[ True  True  True False False]\n"
     ]
    }
   ],
   "source": [
    "# logical not on boolean array:\n",
    "print(f'arr1: {arr1}')\n",
    "\n",
    "x = arr1>2\n",
    "print(f'x: {x}')\n",
    "\n",
    "print(np.logical_not(x,y))\n"
   ]
  },
  {
   "cell_type": "code",
   "execution_count": 28,
   "metadata": {},
   "outputs": [
    {
     "name": "stdout",
     "output_type": "stream",
     "text": [
      "False\n",
      "False\n",
      "True\n"
     ]
    }
   ],
   "source": [
    "# logical not on  scalar:\n",
    "print(np.logical_not(-92349))\n",
    "print(np.logical_not(1))\n",
    "print(np.logical_not(0))"
   ]
  },
  {
   "cell_type": "code",
   "execution_count": 29,
   "metadata": {},
   "outputs": [
    {
     "name": "stdout",
     "output_type": "stream",
     "text": [
      "[0 1 2 3 4]\n",
      "[2 2 2 2 2]\n"
     ]
    }
   ],
   "source": [
    "print(arr1)\n",
    "print(arr2)"
   ]
  },
  {
   "cell_type": "markdown",
   "metadata": {},
   "source": [
    "### Truth value testing\n",
    "\n",
    "[np.all()](https://numpy.org/doc/stable/reference/generated/numpy.all.html#numpy.all) - Test whether all array elements along a given axis evaluate to True.\n",
    "\n",
    "[np.any()](https://numpy.org/doc/stable/reference/generated/numpy.any.html#numpy.any) - Test whether any array element along a given axis evaluates to True."
   ]
  },
  {
   "cell_type": "code",
   "execution_count": 30,
   "metadata": {},
   "outputs": [
    {
     "name": "stdout",
     "output_type": "stream",
     "text": [
      "arr1>2: [False False False  True  True]\n",
      "False\n",
      "True\n"
     ]
    }
   ],
   "source": [
    "print(f'arr1>2: {arr1>2}')\n",
    "\n",
    "print(np.all(arr1>2))\n",
    "print(np.any(arr1>2))"
   ]
  }
 ],
 "metadata": {
  "kernelspec": {
   "display_name": "Python 3.9.12 ('.venv': venv)",
   "language": "python",
   "name": "python3"
  },
  "language_info": {
   "codemirror_mode": {
    "name": "ipython",
    "version": 3
   },
   "file_extension": ".py",
   "mimetype": "text/x-python",
   "name": "python",
   "nbconvert_exporter": "python",
   "pygments_lexer": "ipython3",
   "version": "3.9.12"
  },
  "orig_nbformat": 4,
  "vscode": {
   "interpreter": {
    "hash": "5a62e84bb33d97b2ebe9e05db7b4ecaf9cd6e6588d04ba7af3ee1bdaa3f1036b"
   }
  }
 },
 "nbformat": 4,
 "nbformat_minor": 2
}
