{
 "cells": [
  {
   "cell_type": "markdown",
   "metadata": {},
   "source": [
    "# Introduction to Convolutional Neural Networks (CNNs)\n",
    "\n",
    "## What is a CNN?\n",
    "Convolutional Neural Networks (CNNs) are a class of deep learning models specifically designed to process and analyze visual data. They are particularly effective for tasks such as image classification, object detection, and segmentation.\n",
    "\n",
    "## Key Characteristics of CNNs\n",
    "- **Local Connectivity**: Each neuron in a convolutional layer is connected to a local region of the input, rather than to all neurons, reducing the number of parameters.\n",
    "- **Parameter Sharing**: The same filter (kernel) is applied across different regions of the input, making CNNs efficient.\n",
    "- **Spatial Hierarchy**: Captures spatial features at different levels using multiple layers.\n",
    "\n",
    "## CNN Architecture Overview\n",
    "A typical CNN consists of multiple layers, often arranged in the following order:\n",
    "\n",
    "- **Input Layer**: Takes an image as input, represented as a 3D matrix.\n",
    "- **Convolutional Layers**: Applies a series of filters to learn spatial features.\n",
    "- **Pooling Layers**: Down-samples the feature maps.\n",
    "- **Fully Connected Layers**: Final dense layers to make predictions.\n",
    "- **Output Layer**: Produces class probabilities or regression outputs.\n",
    "\n",
    "\n",
    "\n",
    "- **Input Layer**: Takes an image as input, represented as a 3D matrix.\n",
    "  \n",
    "- **Convolutional Layer**: Applies a series of filters to the input image to learn spatial features, producing feature maps.\n",
    "\n",
    "- **Pooling Layer**: Down-samples the feature maps by taking the maximum (**Max Pooling Layer**) or average (**Average Pooling Layer**) value from small regions.\n",
    "  \n",
    "- **Dropout Layer**: A regularization technique that randomly sets a fraction of the input units to zero to prevent overfitting.  \n",
    "\n",
    "- **Flatten Layer**: Converts the 2D matrix of the pooled feature maps into a 1D vector.\n",
    "  \n",
    "- **Output Layer**: Produces class probabilities or regression outputs.\n",
    "\n",
    "This is a simplified flow of layers in a CNN that effectively reduces the image size and extracts the most important features, preparing the data for the fully connected layers for final classification.\n",
    "\n",
    "\n",
    "   <a href=\"./images/CNN_dataflow.webp\"><img src='./images/CNN_dataflow.webp' style=height:16em></a><br>\n",
    "   *Image source: [Understanding the Convolutional Filter Operation in CNN’s](https://medium.com/advanced-deep-learning/cnn-operation-with-2-kernels-resulting-in-2-feature-mapsunderstanding-the-convolutional-filter-c4aad26cf32)*"
   ]
  },
  {
   "cell_type": "markdown",
   "metadata": {},
   "source": [
    "## Benefits of Using CNNs\n",
    "\n",
    "- **Reduction in Parameters**: Due to local connectivity and parameter sharing.\n",
    "- **Capturing Spatial Hierarchies**: Detects simple features (edges) in earlier layers and complex patterns (objects) in deeper layers.\n",
    "- **Translation Invariance**: Minor translations or distortions in the input image do not significantly change the output."
   ]
  },
  {
   "cell_type": "markdown",
   "metadata": {},
   "source": [
    "## Use Cases of CNNs\n",
    "\n",
    "- **Image Classification**: Recognizing objects in images.\n",
    "- **Object Detection**: Identifying and locating objects within an image.\n",
    "- **Image Segmentation**: Dividing an image into meaningful regions.\n",
    "- **Face Recognition**: Matching faces in images or videos.\n",
    "- **Medical Imaging**: Analyzing X-rays, MRIs, and CT scans for abnormalities.\n"
   ]
  },
  {
   "cell_type": "markdown",
   "metadata": {},
   "source": [
    "## Example of a Simple CNN Model in Keras"
   ]
  },
  {
   "cell_type": "code",
   "execution_count": null,
   "metadata": {
    "vscode": {
     "languageId": "plaintext"
    }
   },
   "outputs": [],
   "source": [
    "from tensorflow.keras.models import Sequential\n",
    "from tensorflow.keras.layers import Conv2D, MaxPooling2D, Flatten, Dense\n",
    "\n",
    "# Building a simple CNN model\n",
    "model = Sequential([\n",
    "    Conv2D(32, (3, 3), activation='relu', input_shape=(64, 64, 3)),\n",
    "    MaxPooling2D(pool_size=(2, 2)),\n",
    "    Conv2D(64, (3, 3), activation='relu'),\n",
    "    MaxPooling2D(pool_size=(2, 2)),\n",
    "    Flatten(),\n",
    "    Dense(128, activation='relu'),\n",
    "    Dense(10, activation='softmax')\n",
    "])\n",
    "\n",
    "model.summary()\n"
   ]
  },
  {
   "cell_type": "code",
   "execution_count": null,
   "metadata": {
    "vscode": {
     "languageId": "plaintext"
    }
   },
   "outputs": [],
   "source": []
  }
 ],
 "metadata": {
  "language_info": {
   "name": "python"
  }
 },
 "nbformat": 4,
 "nbformat_minor": 2
}
