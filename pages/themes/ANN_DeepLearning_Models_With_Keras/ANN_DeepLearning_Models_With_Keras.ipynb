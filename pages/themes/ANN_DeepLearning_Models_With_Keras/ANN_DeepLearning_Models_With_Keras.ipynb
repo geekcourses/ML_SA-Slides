{
 "cells": [
  {
   "cell_type": "code",
   "execution_count": 3,
   "metadata": {},
   "outputs": [],
   "source": [
    "import os\n",
    "os.environ['CUDA_VISIBLE_DEVICES'] = '-1'  # Disable GPU usage\n",
    "os.environ['TF_CPP_MIN_LOG_LEVEL'] = '2'  #  Suppress all logs except errors\n",
    "\n",
    "import tensorflow as tf"
   ]
  },
  {
   "cell_type": "markdown",
   "metadata": {},
   "source": [
    "# Building Deep Learning models with TensorFlow и Keras\n",
    "\n",
    "  "
   ]
  },
  {
   "cell_type": "markdown",
   "metadata": {},
   "source": [
    "### 3.4 Popular Artificial Neural Network Types Supported by Keras\n",
    "\n",
    "1. **Feed-Forward Neural Network (FFNN)**  \n",
    "   - **Keras Class**: `tensorflow.keras.layers.Dense`\n",
    "   - Basic architecture where data flows in one direction without cycles.\n",
    "   - Suitable for general-purpose tasks like tabular data classification and regression.\n",
    "\n",
    "   <a href=\"./images/FFNN_architecture.jpg\"><img src='./images/FFNN_architecture.jpg' style=height:12em></a><br>\n",
    "   *Image source: https://learnopencv.com/understanding-convolutional-neural-networks-cnn/*\n",
    "\n",
    "2. **Convolutional Neural Network (CNN)**  \n",
    "   - **Keras Class**: `tensorflow.keras.layers.Conv2D`, `tensorflow.keras.layers.MaxPooling2D`\n",
    "   - Designed for image-related tasks like image classification, object detection, and segmentation.\n",
    "   - Uses convolutional and pooling layers to detect spatial patterns.\n",
    "\n",
    "   <a href=\"./images/CNN_architecture.webp\"><img src='./images/CNN_architecture.webp' style=height:12em></a><br>\n",
    "   *Image source: https://learnopencv.com/understanding-feedforward-neural-networks/*\n",
    "   \n",
    "3. **Recurrent Neural Network (RNN)**  \n",
    "   - **Keras Class**: `tensorflow.keras.layers.SimpleRNN`\n",
    "   - Designed for sequential data like time series, text, and audio.\n",
    "   - Capable of maintaining state and capturing temporal dependencies.   \n",
    "\n",
    "   <a href=\"./images/RNN_architecture.png\"><img src='./images/RNN_architecture.png' style=height:12em></a><br>\n",
    "   *Image source: https://opendatascience.com/understanding-the-mechanism-and-types-of-recurring-neural-networks/*\n",
    "\n",
    "4. **Long Short-Term Memory (LSTM)**  \n",
    "   - **Keras Class**: `tensorflow.keras.layers.LSTM`\n",
    "   - An advanced type of RNN that solves the vanishing gradient problem.\n",
    "   - Effective for learning long-term dependencies in sequences.\n",
    "\n",
    "   <a href=\"./images/LSTM_architecture.ppm\"><img src='./images/LSTM_architecture.ppm' style=height:12em></a><br>\n",
    "   *Image source: https://www.researchgate.net/publication/344229502_A_Novel_Deep_Learning_Model_for_the_Detection_and_Identification_of_Rolling_Element-Bearing_Faults*\n",
    "\n",
    "5. **Gated Recurrent Unit (GRU)**  \n",
    "   - **Keras Class**: `tensorflow.keras.layers.GRU`\n",
    "   - A simplified version of LSTMs with fewer parameters.\n",
    "   - Faster to train and performs well on sequential tasks.\n",
    "\n",
    "   <a href=\"./images/GRU_architecture.png\"><img src='./images/GRU_architecture.png' style=height:12em></a><br>\n",
    "   *Image source: https://www.researchgate.net/publication/370683092/figure/fig2/AS:11431281207716844@1701313562353/TheArchitecture-of-the-gated-recurrent-unit-GRU-cell.png*\n",
    "\n",
    "6. **Transformer Networks**  \n",
    "   - **Keras Class**: `tensorflow.keras.layers.MultiHeadAttention`, `tensorflow.keras.layers.Transformer`\n",
    "   - Based on self-attention mechanisms.\n",
    "   - Highly effective for NLP tasks such as machine translation and text summarization.\n",
    "\n",
    "   <a href=\"./images/Transformer_architecture.png\"><img src='./images/Transformer_architecture.png' style=height:12em></a><br>\n",
    "   *Image source: [Attention Is All You Need](https://arxiv.org/abs/1706.03762)*"
   ]
  }
 ],
 "metadata": {
  "kernelspec": {
   "display_name": ".venv",
   "language": "python",
   "name": "python3"
  },
  "language_info": {
   "codemirror_mode": {
    "name": "ipython",
    "version": 3
   },
   "file_extension": ".py",
   "mimetype": "text/x-python",
   "name": "python",
   "nbconvert_exporter": "python",
   "pygments_lexer": "ipython3",
   "version": "3.12.3"
  }
 },
 "nbformat": 4,
 "nbformat_minor": 2
}
