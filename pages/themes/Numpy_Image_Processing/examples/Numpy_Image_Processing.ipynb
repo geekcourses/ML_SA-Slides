{
 "cells": [
  {
   "cell_type": "code",
   "execution_count": 1,
   "metadata": {},
   "outputs": [],
   "source": [
    "import numpy as np"
   ]
  },
  {
   "attachments": {},
   "cell_type": "markdown",
   "metadata": {},
   "source": [
    "# Numpy: image processing\n",
    "\n",
    "## Overview\n",
    "\n",
    " An image is made up of a grid of pixels, with each pixel representing a specific color. When you view an image on a computer, the pixels are displayed on the screen, creating the visual representation of the image.\n",
    "\n",
    " For example, consider a simple **black and white image** that is 6 pixels wide and 6 pixels tall. It might look something like this:\n",
    "\n",
    " <img src=\"../images/ImageBitsRepresentation_Black_White-face.png\" alt=\"ImageBitsRepresentation_Black_White\" style=\"height:200px\">\n",
    "\n",
    " Color images are represented as three-dimensional arrays of value for each pixel:\n",
    "\n",
    " <img src=\"../images/ImageBitsRepresentation_Color.png\" alt=\"ImageBitsRepresentation_Color\" style=\"height:300px\">\n",
    "\n",
    " In order to perform operations on images, such as image processing or machine learning tasks, we often need to convert them into a numerical representation that can be processed by a computer. One way to do this is to convert the image into a numpy array."
   ]
  },
  {
   "attachments": {},
   "cell_type": "markdown",
   "metadata": {},
   "source": [
    "## Convert image into numpy array with OpenCV\n",
    "\n",
    "### What is OpenCV?\n",
    "\n",
    "OpenCV (Open Source Computer Vision) is a free and open-source library of computer vision and machine learning algorithms designed to help developers build computer vision applications.\n",
    "\n",
    "OpenCV contains a wide range of refunctions and utilities for image and video processing, including feature detection and extraction, object detection and cognition, and image and video manipulation. It is written in C++ and has bindings for many programming languages, including Python, Java, and C#.\n",
    "\n",
    "OpenCV is widely used in a variety of applications, including robotics, self-driving cars, and security systems. It is a powerful tool for building computer vision applications and can be used in a variety of industries, including \n",
    "healthcare, finance, and retail.\n",
    "\n",
    "### Install OpenCV in Python\n",
    "\n",
    "Make sure your are in desired virtual env, open a terminal and type the following command:\n",
    "\n",
    "``pip install opencv-python``\n",
    "\n",
    "### Read an image with OpenCV\n",
    "\n",
    "Next code will read the image file 'number_0.png' and output a NumPy 3D array with dimensions [height, width, channels], where height is the number of rows, width is the number of columns, and channels is the number of color channels (e.g., red, green, and blue).\n",
    "\n",
    "Note, that OpenCV uses BGR(blue, green, red), instead of RGB(red, green, blue)."
   ]
  },
  {
   "cell_type": "code",
   "execution_count": 6,
   "metadata": {},
   "outputs": [
    {
     "name": "stdout",
     "output_type": "stream",
     "text": [
      "[[[255   0   0]\n",
      "  [255 255 255]\n",
      "  [255 255 255]\n",
      "  [255 255 255]]\n",
      "\n",
      " [[255 255 255]\n",
      "  [255 255 255]\n",
      "  [255 255 255]\n",
      "  [255 255 255]]\n",
      "\n",
      " [[255 255 255]\n",
      "  [255 255 255]\n",
      "  [255 255 255]\n",
      "  [255 255 255]]\n",
      "\n",
      " [[255 255 255]\n",
      "  [255 255 255]\n",
      "  [255 255 255]\n",
      "  [255 255 255]]\n",
      "\n",
      " [[255 255 255]\n",
      "  [255 255 255]\n",
      "  [255 255 255]\n",
      "  [255 255 255]]\n",
      "\n",
      " [[255 255 255]\n",
      "  [255 255 255]\n",
      "  [255 255 255]\n",
      "  [255 255 255]]]\n"
     ]
    }
   ],
   "source": [
    "import cv2\n",
    "import numpy as np\n",
    "\n",
    "# Read the image file\n",
    "image = cv2.imread('number_0.png')\n",
    "\n",
    "# Convert the image to a NumPy array\n",
    "image = np.array(image)\n",
    "\n",
    "print(image)"
   ]
  },
  {
   "cell_type": "code",
   "execution_count": null,
   "metadata": {},
   "outputs": [],
   "source": []
  }
 ],
 "metadata": {
  "kernelspec": {
   "display_name": ".venv",
   "language": "python",
   "name": "python3"
  },
  "language_info": {
   "codemirror_mode": {
    "name": "ipython",
    "version": 3
   },
   "file_extension": ".py",
   "mimetype": "text/x-python",
   "name": "python",
   "nbconvert_exporter": "python",
   "pygments_lexer": "ipython3",
   "version": "3.9.12"
  },
  "orig_nbformat": 4,
  "vscode": {
   "interpreter": {
    "hash": "5a62e84bb33d97b2ebe9e05db7b4ecaf9cd6e6588d04ba7af3ee1bdaa3f1036b"
   }
  }
 },
 "nbformat": 4,
 "nbformat_minor": 2
}
