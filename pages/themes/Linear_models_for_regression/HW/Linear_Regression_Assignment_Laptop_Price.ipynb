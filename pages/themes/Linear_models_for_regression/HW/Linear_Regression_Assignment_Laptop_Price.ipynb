{
 "cells": [
  {
   "cell_type": "markdown",
   "metadata": {},
   "source": [
    "# Linear Regression Assignment\n",
    "\n",
    "## Laptop Price Prediction\n",
    "\n",
    "### Objective\n",
    "Use linear regression to predict laptop prices based on various features.\n",
    "\n",
    "### Data\n",
    "\n",
    "https://www.kaggle.com/datasets/muhammetvarl/laptop-price\n",
    "\n",
    "The dataset includes the following features:\n",
    "- Company\n",
    "- Product\n",
    "- TypeName\n",
    "- Inches\n",
    "- ScreenResolution\n",
    "- Cpu\n",
    "- Ram\n",
    "- Memory\n",
    "- Gpu\n",
    "- OpSys\n",
    "- Weight\n",
    "- Price\n",
    "\n",
    "### Steps\n",
    "1. Load the dataset into a pandas DataFrame.\n",
    "2. Explore the data to understand the relationships between the features and the target variable (Price).\n",
    "3. Preprocess the data: handle missing values, if any, and encode categorical variables.\n",
    "4. Split the data into training and testing sets.\n",
    "5. Train a linear regression model using the training data.\n",
    "6. Evaluate the model's performance on the testing data.\n",
    "7. Make predictions using the trained model and analyze the results.\n",
    "\n",
    "### Additional Instructions\n",
    "- Ensure to handle any missing values in the dataset.\n",
    "- You may want to visualize the relationships between the features and the target variable using scatter plots.\n",
    "- Experiment with different features and see if you can improve the model's performance.\n",
    "- Write a brief report on your findings and the model's performance.\n"
   ]
  }
 ],
 "metadata": {
  "kernelspec": {
   "display_name": "Python 3",
   "language": "python",
   "name": "python3"
  },
  "language_info": {
   "codemirror_mode": {
    "name": "ipython",
    "version": 3
   },
   "file_extension": ".py",
   "mimetype": "text/x-python",
   "name": "python",
   "nbconvert_exporter": "python",
   "pygments_lexer": "ipython3",
   "version": "3.12.3"
  }
 },
 "nbformat": 4,
 "nbformat_minor": 4
}
