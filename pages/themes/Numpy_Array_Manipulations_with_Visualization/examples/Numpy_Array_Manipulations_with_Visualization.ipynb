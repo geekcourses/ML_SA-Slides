{
 "cells": [
  {
   "cell_type": "code",
   "execution_count": 3,
   "metadata": {},
   "outputs": [],
   "source": [
    "import numpy as np"
   ]
  },
  {
   "cell_type": "markdown",
   "metadata": {},
   "source": [
    "# Numpy Array Manipulations with Visualization\n",
    "\n",
    "<img src=\"../images/1d_2d_3d_arrays.png\" style=\"width:50vw; background:#FFF;border:20px solid #FFF;\">"
   ]
  },
  {
   "cell_type": "markdown",
   "metadata": {},
   "source": [
    "## Indexing"
   ]
  },
  {
   "cell_type": "markdown",
   "metadata": {},
   "source": [
    "Array indexing and slicing is similat to Python indexing and slicing lists.\n",
    "\n",
    "\n",
    "But in a a multidimensional array, we access items using comma-separated indices. \n",
    "\n",
    "When we slice an array using [start:end] the result is a \"view\" - it don't store the data and reflect the changes in the original array if it happens to get changed after being indexed.\n"
   ]
  },
  {
   "cell_type": "markdown",
   "metadata": {},
   "source": [
    "### 1D array indexing and slicing\n",
    "\n",
    "<img src=\"../images/1Darray-slice.png\" style=\"width:50vw; background:#FFF;border:20px solid #FFF;\">\n",
    "\n",
    "**Indexing**: array[n]\n",
    "\n",
    "n >= 0 => get n+1 element, from left to right\n",
    "\n",
    "n <= -1 => get n element, from right to left \n",
    "\n",
    "\n",
    "**Slicing**: arr[start:stop:step]\n",
    "\n",
    "start = index of start element. Default = beginning of array.\n",
    "\n",
    "stop -1 = index of last element. Default = end of array (inclusive)\n",
    "\n",
    "step   = the step to increment indexes on slice. Optional. Default 1.\n"
   ]
  },
  {
   "cell_type": "code",
   "execution_count": 38,
   "metadata": {},
   "outputs": [
    {
     "name": "stdout",
     "output_type": "stream",
     "text": [
      "[1 2 3 4 5 6 7 8 9]\n",
      "\n",
      "positive index - from left to right - a1[1]\n",
      "2\n",
      "\n",
      "negative index - from right to left - a1[-1]\n",
      "9\n",
      "\n",
      "get elements with indexes 0 upto 3 (excluded) - a1[0:3]\n",
      "[1 2 3]\n",
      "\n",
      "get all elements - a1[:]\n",
      "[1 2 3 4 5 6 7 8 9]\n",
      "\n",
      "get all elements, without the last one - a1[:-1]\n",
      "[1 2 3 4 5 6 7 8]\n",
      "\n",
      "slicing with step - a1[0:9:2]\n",
      "[1 3 5 7 9]\n",
      "\n",
      "slicing with step - backwards - a1[-1::-2]\n",
      "[9 7 5 3 1]\n"
     ]
    }
   ],
   "source": [
    "a1 = np.arange(1,10)\n",
    "print(a1)\n",
    "\n",
    "print(\"\\npositive index - from left to right - a1[1]\")\n",
    "print(a1[1])\n",
    "\n",
    "print(\"\\nnegative index - from right to left - a1[-1]\")\n",
    "print(a1[-1])\n",
    "\n",
    "print(\"\\nget elements with indexes 0 upto 3 (excluded) - a1[0:3]\")\n",
    "print(a1[0:3])\n",
    "\n",
    "print(\"\\nget all elements - a1[:]\")\n",
    "print(a1[:])\n",
    "\n",
    "print(\"\\nget all elements, without the last one - a1[:-1]\")\n",
    "print(a1[:-1])\n",
    "\n",
    "print(\"\\nslicing with step - a1[0:9:2]\")\n",
    "print(a1[0:9:2])\n",
    "\n",
    "print(\"\\nslicing with step - backwards - a1[-1::-2]\")\n",
    "print(a1[-1::-2])"
   ]
  },
  {
   "cell_type": "markdown",
   "metadata": {},
   "source": [
    "When we slice an array using [start:end] the result is a \"view\" - it don't store the data and reflect the changes in the original array if it happens to get changed after being indexed."
   ]
  },
  {
   "cell_type": "code",
   "execution_count": 15,
   "metadata": {},
   "outputs": [
    {
     "name": "stdout",
     "output_type": "stream",
     "text": [
      "[9 2 3]\n",
      "[9 2]\n"
     ]
    }
   ],
   "source": [
    "s = arr[0:2]\n",
    "print(arr)\n",
    "print(s)"
   ]
  },
  {
   "cell_type": "code",
   "execution_count": 14,
   "metadata": {},
   "outputs": [
    {
     "name": "stdout",
     "output_type": "stream",
     "text": [
      "[9 2 3]\n",
      "[9 2]\n"
     ]
    }
   ],
   "source": [
    "arr[0] = 9\n",
    "\n",
    "print(arr)\n",
    "print(s)"
   ]
  },
  {
   "cell_type": "markdown",
   "metadata": {},
   "source": [
    "### 2D Array indexing and slicing\n",
    "\n",
    "<img src=\"../images/2D_slicing.png\" style=\"width:50vw; background:#FFF;border:20px solid #FFF;\">\n",
    "\n",
    "**indexing**: matrix[i,j]\n",
    "\n",
    "i - index rows\n",
    "\n",
    "j - index columns\n",
    "\n",
    "**slicing**: matrix[slice_row, slice_col]"
   ]
  },
  {
   "cell_type": "code",
   "execution_count": 17,
   "metadata": {},
   "outputs": [
    {
     "name": "stdout",
     "output_type": "stream",
     "text": [
      "[[ 1  2  3  4]\n",
      " [ 5  6  7  8]\n",
      " [ 9 10 11 12]]\n"
     ]
    }
   ],
   "source": [
    "a2d = np.arange(1,13).reshape(3,4)\n",
    "print(a2d)"
   ]
  },
  {
   "cell_type": "code",
   "execution_count": 20,
   "metadata": {},
   "outputs": [
    {
     "data": {
      "text/plain": [
       "array([ 3,  7, 11])"
      ]
     },
     "execution_count": 20,
     "metadata": {},
     "output_type": "execute_result"
    }
   ],
   "source": [
    "a2d[:,2]"
   ]
  },
  {
   "cell_type": "markdown",
   "metadata": {},
   "source": [
    "### 3D Array indexing and slicing\n",
    "\n",
    "<img src=\"../images/3D_Array_Props.png\" style=\"width:50vw; background:#FFF;border:20px solid #FFF;\">"
   ]
  },
  {
   "cell_type": "markdown",
   "metadata": {},
   "source": [
    "**indexing**: a3d[ax0,ax1,ax2]\n",
    "\n",
    "\n",
    "**slicing**: matrix[ax0_slice, ax1_slice,ax2_slice]"
   ]
  },
  {
   "cell_type": "code",
   "execution_count": 31,
   "metadata": {},
   "outputs": [
    {
     "data": {
      "text/plain": [
       "array([[[ 1,  2],\n",
       "        [ 3,  4],\n",
       "        [ 5,  6],\n",
       "        [ 7,  8]],\n",
       "\n",
       "       [[ 9, 10],\n",
       "        [11, 12],\n",
       "        [13, 14],\n",
       "        [15, 16]],\n",
       "\n",
       "       [[17, 18],\n",
       "        [19, 20],\n",
       "        [21, 22],\n",
       "        [23, 24]]])"
      ]
     },
     "execution_count": 31,
     "metadata": {},
     "output_type": "execute_result"
    }
   ],
   "source": [
    "a3d = np.arange(1,25).reshape(3,4,2)\n",
    "a3d"
   ]
  },
  {
   "cell_type": "code",
   "execution_count": 33,
   "metadata": {},
   "outputs": [
    {
     "data": {
      "text/plain": [
       "1"
      ]
     },
     "execution_count": 33,
     "metadata": {},
     "output_type": "execute_result"
    }
   ],
   "source": [
    "a3d[0,0,0]"
   ]
  },
  {
   "cell_type": "code",
   "execution_count": 36,
   "metadata": {},
   "outputs": [
    {
     "data": {
      "text/plain": [
       "14"
      ]
     },
     "execution_count": 36,
     "metadata": {},
     "output_type": "execute_result"
    }
   ],
   "source": [
    "a3d[1,2,1]"
   ]
  },
  {
   "cell_type": "markdown",
   "metadata": {},
   "source": [
    "### Nympy indexing vs chaining"
   ]
  },
  {
   "cell_type": "code",
   "execution_count": 37,
   "metadata": {},
   "outputs": [
    {
     "name": "stdout",
     "output_type": "stream",
     "text": [
      "CPU times: user 246 ms, sys: 0 ns, total: 246 ms\n",
      "Wall time: 265 ms\n",
      "CPU times: user 405 ms, sys: 0 ns, total: 405 ms\n",
      "Wall time: 405 ms\n"
     ]
    }
   ],
   "source": [
    "\n",
    "a1 = np.arange(1,28).reshape(3,3,3)\n",
    "SIZE = 1_000_000\n",
    "\n",
    "def multidim_index_tuple():\n",
    "  for i in range(SIZE):\n",
    "    x = a1[1,1,1]\n",
    "\n",
    "def multidim_index_chained():\n",
    "  for i in range(SIZE):\n",
    "    x = a1[1][1][1]\n",
    "\n",
    "\n",
    "\n",
    "%time multidim_index_tuple()\n",
    "%time multidim_index_chained()"
   ]
  },
  {
   "cell_type": "markdown",
   "metadata": {},
   "source": [
    "### Boolean Indexing\n",
    "\n",
    "We can select certain values from a numpy array, if we mask it with a Boolean array (True/False values) with the **same shape**\n",
    "\n",
    "<img src=\"../images/BooleanIndexing.png\" style=\"width:60vw; background:#FFF;border:20px solid #FFF;\">"
   ]
  },
  {
   "cell_type": "code",
   "execution_count": 39,
   "metadata": {},
   "outputs": [
    {
     "name": "stdout",
     "output_type": "stream",
     "text": [
      "[1 2 3 4 5]\n",
      "[1 2 4]\n"
     ]
    }
   ],
   "source": [
    "# this is the original array:\n",
    "a = np.arange(1,6)\n",
    "print(a)\n",
    "\n",
    "# this is the mask:\n",
    "mask = [True, True, False, True, False]\n",
    "\n",
    "# lets apply the mask:\n",
    "print(a[mask])"
   ]
  },
  {
   "cell_type": "markdown",
   "metadata": {},
   "source": [
    "#### Masking example 1 : select only the even values"
   ]
  },
  {
   "cell_type": "code",
   "execution_count": 40,
   "metadata": {},
   "outputs": [
    {
     "data": {
      "text/plain": [
       "array([ 2,  4,  6,  8, 10, 12, 14, 16, 18])"
      ]
     },
     "execution_count": 40,
     "metadata": {},
     "output_type": "execute_result"
    }
   ],
   "source": [
    "# let's have a bigger array:\n",
    "a = np.arange(1,20)\n",
    "\n",
    "# and get only even numbers from it:\n",
    "a[a%2==0]"
   ]
  },
  {
   "cell_type": "markdown",
   "metadata": {},
   "source": [
    "How it works:\n",
    "\n",
    "a%2 is calculated for each element of the array.\n",
    "\n",
    "If result value, which serves as index, is True => the element is selected, \n",
    "if it is False the element is not selected "
   ]
  },
  {
   "cell_type": "markdown",
   "metadata": {},
   "source": [
    "#### Masking example 2 : map list elements to array of indexes"
   ]
  },
  {
   "cell_type": "code",
   "execution_count": 41,
   "metadata": {},
   "outputs": [
    {
     "name": "stdout",
     "output_type": "stream",
     "text": [
      "red group:\n",
      "[0 0]\n",
      "green group:\n",
      "[1 1]\n",
      "blue group:\n",
      "[2 2 2]\n"
     ]
    }
   ],
   "source": [
    "# let's have a numpy array of repeated values 0, 1 or 2:\n",
    "indexes = np.array([0, 2, 1, 2, 0, 1,2])\n",
    "\n",
    "# and a list of colors:\n",
    "colors = ['red', 'green', 'blue']\n",
    "\n",
    "# let's group the elements of the 'indexes' array by color, according to \n",
    "# their values, which will be used as indexes in colors list\n",
    "# For simplicity, we'll just print the groups, but if we need, we can save them in dictionary\n",
    "for i in range(len(colors)):  \n",
    "    print(f\"{colors[i]} group:\")\n",
    "    print(indexes[indexes==i])\n",
    "    "
   ]
  },
  {
   "cell_type": "markdown",
   "metadata": {},
   "source": [
    "#### Masking example 3 : group 'scores' by category\n",
    "\n",
    "Let's have an array of 'scores', and for each score we'll have to assign a category from a predefined list. So, we'll add to each score element the index of the category list.\n",
    "The goal is to group scores by category."
   ]
  },
  {
   "cell_type": "code",
   "execution_count": 42,
   "metadata": {},
   "outputs": [
    {
     "name": "stdout",
     "output_type": "stream",
     "text": [
      "\n",
      "bad scores are:\n",
      "[2 3]\n",
      "\n",
      "good scores are:\n",
      "[4 5 6]\n"
     ]
    }
   ],
   "source": [
    "scores = np.array([\n",
    "    [4, 1],\n",
    "    [2, 0],\n",
    "    [3, 0],\n",
    "    [5, 1],\n",
    "    [6, 1]\n",
    "])\n",
    "\n",
    "categories = ['bad', 'good']\n",
    "\n",
    "\n",
    "for i in range(len(categories)):  \n",
    "    # make the mask:\n",
    "    mask = scores[:,1] == i\n",
    "#     print(mask)\n",
    "    \n",
    "    # now apply it to scores:\n",
    "    print(f\"\\n{categories[i]} scores are:\")\n",
    "    print(scores[mask,0])"
   ]
  },
  {
   "cell_type": "code",
   "execution_count": null,
   "metadata": {},
   "outputs": [],
   "source": []
  }
 ],
 "metadata": {
  "kernelspec": {
   "display_name": "Python 3.9.12 ('.venv': venv)",
   "language": "python",
   "name": "python3"
  },
  "language_info": {
   "codemirror_mode": {
    "name": "ipython",
    "version": 3
   },
   "file_extension": ".py",
   "mimetype": "text/x-python",
   "name": "python",
   "nbconvert_exporter": "python",
   "pygments_lexer": "ipython3",
   "version": "3.9.12"
  },
  "orig_nbformat": 4,
  "vscode": {
   "interpreter": {
    "hash": "5a62e84bb33d97b2ebe9e05db7b4ecaf9cd6e6588d04ba7af3ee1bdaa3f1036b"
   }
  }
 },
 "nbformat": 4,
 "nbformat_minor": 2
}
