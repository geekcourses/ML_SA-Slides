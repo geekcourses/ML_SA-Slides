{
 "cells": [
  {
   "cell_type": "markdown",
   "metadata": {},
   "source": [
    "# Training Neural Networks. Backpropagation"
   ]
  },
  {
   "attachments": {},
   "cell_type": "markdown",
   "metadata": {},
   "source": [
    "## Introduction:\n",
    "\n",
    "\n",
    "Backpropagation is a popular algorithm used to train neural networks. It is a supervised learning technique that works by propagating errors backward through the network to adjust the weights and biases.\n",
    "\n",
    "Backpropagation is a method for computing the gradients of the loss function with respect to the weights of a neural network. These gradients can then be used to update the weights using an optimization algorithm such as stochastic gradient descent."
   ]
  },
  {
   "attachments": {},
   "cell_type": "markdown",
   "metadata": {},
   "source": [
    "## Backpropagation Algorithm\n",
    "\n",
    "Here's how it works in simple terms:\n",
    "\n",
    "1.  Feedforward: The input data is fed into the network, and the output is calculated by passing it through a series of interconnected nodes, also known as neurons.\n",
    "\n",
    "2.  Calculate Error: The difference between the predicted output and the actual output is calculated, and this is known as the error.\n",
    "\n",
    "3.  Backpropagation: The error is then propagated backwards through the network to adjust the weights and biases. The weights and biases are updated in the direction that reduces the error, using an optimization algorithm such as Stochastic Gradient Descent.\n",
    "\n",
    "4.  Repeat: Steps 1-3 are repeated for each example in the training dataset until the error is minimized."
   ]
  },
  {
   "cell_type": "markdown",
   "metadata": {},
   "source": []
  }
 ],
 "metadata": {
  "kernelspec": {
   "display_name": ".venv",
   "language": "python",
   "name": "python3"
  },
  "language_info": {
   "name": "python",
   "version": "3.9.12"
  },
  "orig_nbformat": 4,
  "vscode": {
   "interpreter": {
    "hash": "80d53e83da47a8dbd3f05a73e91e3e7dbf0e420a2da730c28d0eaee714054d51"
   }
  }
 },
 "nbformat": 4,
 "nbformat_minor": 2
}
