{
 "cells": [
  {
   "attachments": {},
   "cell_type": "markdown",
   "metadata": {},
   "source": [
    "# Example: OR Function Using A Perceptron\n",
    "\n",
    "We want to implement the OR function using a perceptron with two inputs (x1 and x2) and one output (y). The truth table for the OR function is:\n",
    "\n",
    "<table>\n",
    "  <tr>\n",
    "\t<th>x1</th>\n",
    "\t<th>x2</th>\n",
    "\t<th>y</th>\n",
    "  </tr>\n",
    "  <tr>\n",
    "\t<td>0</td>\n",
    "\t<td>0</td>\n",
    "\t<td>0</td>\n",
    "  </tr>\n",
    "  <tr>\n",
    "\t<td>0</td>\n",
    "\t<td>1</td>\n",
    "\t<td>1</td>\n",
    "  </tr>\n",
    "  <tr>\n",
    "\t<td>1</td>\n",
    "\t<td>0</td>\n",
    "\t<td>1</td>\n",
    "  </tr>\n",
    "  <tr>\n",
    "\t<td>1</td>\n",
    "\t<td>1</td>\n",
    "\t<td>1</td>\n",
    "  </tr>\n",
    "</table>\n",
    "\n",
    "Remember, that Perceptron's activation function is:\n",
    "$$\n",
    "\\text{out(t)} = \\begin{cases}\n",
    "1, &\\text{if } w_1x_1 + w_2x_2 + \\dots + w_nx_n + bias \\geq 0 \\\\\n",
    "0, &\\text{if } w_1x_1 + w_2x_2 + \\dots + w_nx_n + bias \\lt 0\n",
    "\\end{cases}\n",
    "$$\n",
    "\n",
    "In our case, the perceptron takes two inputs and produces a single output. We can represent the inputs as x1 and x2, and the output as y. We also need to set weights w1 and w2 for each input, and a bias term b. The perceptron's output y is calculated by:\n",
    "\n",
    "```\n",
    "y = f(w1*x1 + w2*x2 + b)\n",
    "```\n",
    "\n",
    "where f is  the `step` function - a threshold function that produces 1 if the input is greater than or equal to 0, and 0 otherwise.\n",
    "\n"
   ]
  },
  {
   "attachments": {},
   "cell_type": "markdown",
   "metadata": {},
   "source": [
    "### The Step Function\n",
    "\n",
    "Step Function is a simple function that returns 1 if $x$ is greater than or equal to 0, and 0 otherwise:\n",
    "\n",
    "$\n",
    "\\operatorname{f}(x) = \\begin{cases} \n",
    "1, & x \\geq 0 \\\\ \n",
    "0, & x < 0 \n",
    "\\end{cases}\n",
    "$"
   ]
  },
  {
   "cell_type": "code",
   "execution_count": 1,
   "metadata": {},
   "outputs": [
    {
     "data": {
      "image/png": "[encoded data removed]",
      "text/plain": [
       "<Figure size 640x480 with 1 Axes>"
      ]
     },
     "metadata": {},
     "output_type": "display_data"
    }
   ],
   "source": [
    "import numpy as np\n",
    "import matplotlib.pyplot as plt\n",
    "\n",
    "# Define the step function\n",
    "def step(x):\n",
    "\treturn np.where(x >= 0, 1, 0)\n",
    "\n",
    "# Create some sample data\n",
    "x = np.linspace(-10, 10, 100)\n",
    "y = step(x)\n",
    "\n",
    "# Plot the step function\n",
    "plt.plot(x, y)\n",
    "plt.title('Step Function')\n",
    "plt.xlabel('x')\n",
    "plt.ylabel('y')\n",
    "plt.show()\n"
   ]
  },
  {
   "attachments": {},
   "cell_type": "markdown",
   "metadata": {},
   "source": [
    "### Setting the weights and bias\n",
    "\n",
    "To learn the OR function, we need to set the weights and bias such that the perceptron correctly classifies the inputs in the truth table. We can start by setting the weights and bias to arbitrary values, such as w1 = 0.5, w2 = 0.5, and b = -0.5.\n",
    "\n",
    "We can then feed the inputs from the truth table into the perceptron and compare its output to the expected output. If the output is correct, we don't need to adjust the weights and bias. If the output is incorrect, we adjust the weights and bias to bring the output closer to the expected output.\n",
    "\n",
    "We can repeat this process for each input in the truth table until the perceptron correctly classifies all inputs. In this case, we only need to adjust the bias term to get the correct output for all inputs. We can set the bias term to -0.1 to achieve this.\n",
    "\n",
    "### Final Perceptron Architecture\n",
    "\n",
    "After adjusting the weights and bias, the perceptron for the OR function has the following architecture:\n",
    "\n",
    "```\n",
    "y = step(0.5*x1 + 0.5*x2 - 0.1)\n",
    "```\n",
    "\n",
    "This perceptron correctly classifies all inputs in the truth table, and implements the logical OR function.\n",
    "\n"
   ]
  },
  {
   "attachments": {},
   "cell_type": "markdown",
   "metadata": {},
   "source": [
    "### Test the implementation"
   ]
  },
  {
   "cell_type": "code",
   "execution_count": 2,
   "metadata": {},
   "outputs": [
    {
     "name": "stdout",
     "output_type": "stream",
     "text": [
      "OR(0, 0) = 0\n",
      "OR(0, 1) = 1\n",
      "OR(1, 0) = 1\n",
      "OR(1, 1) = 1\n"
     ]
    }
   ],
   "source": [
    "import numpy as np\n",
    "\n",
    "# Define the step function\n",
    "def step(x):\n",
    "\treturn np.where(x >= 0, 1, 0)\n",
    "\n",
    "# Define the OR function using the weights and bias found above\n",
    "def OR(x1, x2):\n",
    "\tw1, w2, b = 0.5, 0.5, -0.1\n",
    "\ty = w1*x1 + w2*x2 + b\n",
    "\treturn step(y)\n",
    "\n",
    "# Test the OR function\n",
    "inputs = [(0, 0), (0, 1), (1, 0), (1, 1)]\n",
    "for x1, x2 in inputs:\n",
    "\toutput = OR(x1, x2)\n",
    "\tprint(f\"OR({x1}, {x2}) = {output}\")\n"
   ]
  }
 ],
 "metadata": {
  "kernelspec": {
   "display_name": ".venv",
   "language": "python",
   "name": "python3"
  },
  "language_info": {
   "codemirror_mode": {
    "name": "ipython",
    "version": 3
   },
   "file_extension": ".py",
   "mimetype": "text/x-python",
   "name": "python",
   "nbconvert_exporter": "python",
   "pygments_lexer": "ipython3",
   "version": "3.9.12"
  },
  "orig_nbformat": 4,
  "vscode": {
   "interpreter": {
    "hash": "80d53e83da47a8dbd3f05a73e91e3e7dbf0e420a2da730c28d0eaee714054d51"
   }
  }
 },
 "nbformat": 4,
 "nbformat_minor": 2
}
