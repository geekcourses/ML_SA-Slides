version https://git-lfs.github.com/spec/v1
oid sha256:97d3200e88b7edc8cc6003fbd61deffdbed4fd2b43f5218d32b5f3d9e3367a54
size 19623
