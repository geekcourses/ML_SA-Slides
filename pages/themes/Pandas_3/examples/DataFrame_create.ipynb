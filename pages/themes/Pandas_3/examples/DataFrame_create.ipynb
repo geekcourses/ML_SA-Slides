{
 "cells": [
  {
   "cell_type": "markdown",
   "metadata": {
    "toc-hr-collapsed": false
   },
   "source": [
    "<div style=\"position:relative; height: 8em\">\n",
    "\t<h1 style=\"position:absolute; left:0em; top:1em\">Create DataFrame</h1>\n",
    "\t<img src=\"../../../../outfit/images/logos/software-web@256x256.png\" style=\"position:absolute; right:1em; top:0; margin:0\">\n",
    "</div>\n"
   ]
  },
  {
   "cell_type": "code",
   "execution_count": null,
   "metadata": {},
   "outputs": [],
   "source": [
    "import numpy as np\n",
    "import pandas as pd\n",
    "\n",
    "# you don't want to ignore warnings, so skip it\n",
    "import warnings\n",
    "warnings.filterwarnings(\"ignore\")"
   ]
  },
  {
   "cell_type": "markdown",
   "metadata": {},
   "source": [
    "## From other objects"
   ]
  },
  {
   "cell_type": "markdown",
   "metadata": {
    "toc-hr-collapsed": true
   },
   "source": [
    "### From list"
   ]
  },
  {
   "cell_type": "code",
   "execution_count": null,
   "metadata": {},
   "outputs": [],
   "source": [
    "# from one dimensional list\n",
    "df = pd.DataFrame([10,20,30],columns=['col1'])"
   ]
  },
  {
   "cell_type": "code",
   "execution_count": null,
   "metadata": {},
   "outputs": [],
   "source": [
    "# from list of lists:\n",
    "df = pd.DataFrame([\n",
    "    [10,20,30],\n",
    "    [4,7,9]\n",
    "], columns=['col1', 'col2', 'col3'])\n",
    "\n",
    "df"
   ]
  },
  {
   "cell_type": "markdown",
   "metadata": {
    "toc-hr-collapsed": true
   },
   "source": [
    "### from  numpy arrays"
   ]
  },
  {
   "cell_type": "code",
   "execution_count": null,
   "metadata": {},
   "outputs": [],
   "source": [
    "# from multi dimensional nddarray\n",
    "ndarr = np.arange(1,7).reshape(3,2)\n",
    "df = pd.DataFrame(ndarr, index=['row1','row2','row3'],columns=['col1', 'col2'])\n",
    "\n",
    "print(f'ndarr is : \\n{ndarr}\\n')\n",
    "print(f'df is: \\n{df}')"
   ]
  },
  {
   "cell_type": "markdown",
   "metadata": {
    "toc-hr-collapsed": true
   },
   "source": [
    "### from Python Dictionary"
   ]
  },
  {
   "cell_type": "code",
   "execution_count": null,
   "metadata": {},
   "outputs": [],
   "source": [
    "# from a dictionary of equally shaped arrays\n",
    "# keys will be the columns names\n",
    "# array values will be the data.\n",
    "\n",
    "prices_dict = {\n",
    "    \"fruits\": [\"apples\", \"oranges\", \"bananas\", \"strawberries\"],\n",
    "    \"prices\": [1.5, 2, 2.5, 3],\n",
    "    \"suppliers\": [\"supplier1\", \"supplier2\", \"supplier4\", \"supplier3\"],    \n",
    "}\n",
    "\n",
    "prices_df = pd.DataFrame(prices_dict, index = [1,2,3,4])\n",
    "prices_df"
   ]
  },
  {
   "cell_type": "markdown",
   "metadata": {},
   "source": [
    "## Load data from multiple file formats\n",
    "\n",
    "http://pandas.pydata.org/pandas-docs/stable/io.html"
   ]
  },
  {
   "cell_type": "markdown",
   "metadata": {},
   "source": [
    "### From CSV files"
   ]
  },
  {
   "cell_type": "code",
   "execution_count": null,
   "metadata": {},
   "outputs": [],
   "source": [
    "csv_df = pd.read_csv(\"../../datasets/various/drinks.csv\", sep=\",\")\n",
    "\n",
    "csv_df.head(5)"
   ]
  },
  {
   "cell_type": "markdown",
   "metadata": {},
   "source": [
    "#### header parameter\n",
    "\n",
    "By default, the first row of the CSV file is used for header (columns labels). But if our data file has just the data, we should say to read_csv not to use header like that:"
   ]
  },
  {
   "cell_type": "code",
   "execution_count": null,
   "metadata": {},
   "outputs": [],
   "source": [
    "csv_df = pd.read_csv(\"../../datasets/various/drinks.csv\", sep=\",\", header=None)\n",
    "csv_df.head(5)\n",
    "\n",
    "# note, that the header row, now is part of the data:"
   ]
  },
  {
   "cell_type": "markdown",
   "metadata": {},
   "source": [
    "#### names parameter\n",
    "\n",
    "We can set list of column names to use. \n",
    "Note, that we must explicitly pass ``header=0``, if we have a header row in our CSV, to be able to replace existing names."
   ]
  },
  {
   "cell_type": "code",
   "execution_count": null,
   "metadata": {},
   "outputs": [],
   "source": [
    "csv_df = pd.read_csv(\"../../datasets/various/drinks.csv\", \n",
    "                   header=0,\n",
    "                   names=['A','B','C','D','E','F'])\n",
    "csv_df.head(3)"
   ]
  },
  {
   "cell_type": "markdown",
   "metadata": {},
   "source": [
    "#### Loading big files - nrows parameter\n",
    "\n",
    "Number of rows of file to read. Useful for reading pieces of large files.\n",
    "\n",
    "Other useful parameters are <b>chunksize</b> and <b>iterator</b>"
   ]
  },
  {
   "cell_type": "code",
   "execution_count": null,
   "metadata": {
    "scrolled": true
   },
   "outputs": [],
   "source": [
    "csv_df = pd.read_csv(\"../../datasets/various/drinks.csv\", nrows=5)\n",
    "csv_df"
   ]
  },
  {
   "cell_type": "markdown",
   "metadata": {},
   "source": [
    "### From Excel files"
   ]
  },
  {
   "cell_type": "code",
   "execution_count": null,
   "metadata": {},
   "outputs": [],
   "source": [
    "xls_df = pd.read_excel('../../datasets/imdb/imdb_movie_ratings_top_1000_genre_sorted.xlsx')\n",
    "xls_df.head()"
   ]
  },
  {
   "cell_type": "markdown",
   "metadata": {},
   "source": [
    "### From JSON files"
   ]
  },
  {
   "cell_type": "code",
   "execution_count": null,
   "metadata": {},
   "outputs": [],
   "source": [
    "json_df = pd.read_json('../../datasets/python_books/books.json')\n",
    "json_df.head()"
   ]
  },
  {
   "cell_type": "code",
   "execution_count": null,
   "metadata": {},
   "outputs": [],
   "source": []
  }
 ],
 "metadata": {
  "jupytext": {},
  "kernelspec": {
   "display_name": "Python 3.9.13 ('base')",
   "language": "python",
   "name": "python3"
  },
  "language_info": {
   "codemirror_mode": {
    "name": "ipython",
    "version": 3
   },
   "file_extension": ".py",
   "mimetype": "text/x-python",
   "name": "python",
   "nbconvert_exporter": "python",
   "pygments_lexer": "ipython3",
   "version": "3.9.13"
  },
  "toc": {
   "base_numbering": 1,
   "nav_menu": {},
   "number_sections": true,
   "sideBar": true,
   "skip_h1_title": true,
   "title_cell": "Table of Contents",
   "title_sidebar": "Content",
   "toc_cell": false,
   "toc_position": {},
   "toc_section_display": true,
   "toc_window_display": true
  },
  "toc-autonumbering": false,
  "toc-showcode": false,
  "toc-showmarkdowntxt": false,
  "toc-showtags": false,
  "vscode": {
   "interpreter": {
    "hash": "42316c01c00cd60ac05817179ffd8476643c0e4f83e2179e5d0fb24c20720caa"
   }
  }
 },
 "nbformat": 4,
 "nbformat_minor": 4
}
